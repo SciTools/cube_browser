{
 "cells": [
  {
   "cell_type": "markdown",
   "metadata": {},
   "source": [
    "# Overlays\n",
    "\n",
    "This is a notebook demonstrating how to overlay multiple plots on a single set of axes, including the use of coastlines."
   ]
  },
  {
   "cell_type": "code",
   "execution_count": null,
   "metadata": {
    "collapsed": false
   },
   "outputs": [],
   "source": [
    "import iris\n",
    "import iris.plot as iplt\n",
    "import matplotlib.pyplot as plt\n",
    "\n",
    "from cube_browser import Contour, Browser, Contourf, Pcolormesh"
   ]
  },
  {
   "cell_type": "code",
   "execution_count": null,
   "metadata": {
    "collapsed": false
   },
   "outputs": [],
   "source": [
    "cube1 = iris.load_cube(iris.sample_data_path('GloSea4/ensemble_001.pp'))\n",
    "cube2 = iris.load_cube(iris.sample_data_path('GloSea4/ensemble_002.pp'))\n",
    "print cube1\n",
    "print cube2"
   ]
  },
  {
   "cell_type": "markdown",
   "metadata": {},
   "source": [
    "- First, set up your map projection and axes (with any additions such as coastlines). \n",
    "- Overlay the plots by specifying the same set of axes in the plot constructions.  \n",
    "- Finally, display the plot."
   ]
  },
  {
   "cell_type": "code",
   "execution_count": null,
   "metadata": {
    "collapsed": false
   },
   "outputs": [],
   "source": [
    "projection = iplt.default_projection(cube)\n",
    "fig = plt.figure(figsize=(12, 6))\n",
    "ax = fig.add_subplot(111, projection=projection)\n",
    "ax.coastlines()\n",
    "\n",
    "plot1 = Contourf(cube1, ax)\n",
    "plot2 = Contour(cube2, ax, cmap='viridis')\n",
    "\n",
    "Browser([plot1, plot2]).display()"
   ]
  }
 ],
 "metadata": {
  "kernelspec": {
   "display_name": "Python 2",
   "language": "python",
   "name": "python2"
  },
  "language_info": {
   "codemirror_mode": {
    "name": "ipython",
    "version": 2
   },
   "file_extension": ".py",
   "mimetype": "text/x-python",
   "name": "python",
   "nbconvert_exporter": "python",
   "pygments_lexer": "ipython2",
   "version": "2.7.11"
  },
  "widgets": {
   "state": {},
   "version": "1.1.1"
  }
 },
 "nbformat": 4,
 "nbformat_minor": 0
}
