{
 "cells": [
  {
   "cell_type": "code",
   "execution_count": null,
   "metadata": {
    "collapsed": false
   },
   "outputs": [],
   "source": [
    "import iris\n",
    "import iris.plot as iplt\n",
    "import matplotlib.pyplot as plt\n",
    "\n",
    "from cube_browser import Contour, Browser, Contourf, Pcolormesh"
   ]
  },
  {
   "cell_type": "code",
   "execution_count": null,
   "metadata": {
    "collapsed": false
   },
   "outputs": [],
   "source": [
    "cube1 = iris.load_cube(iris.sample_data_path('GloSea4/ensemble_001.pp'))\n",
    "cube2 = iris.load_cube(iris.sample_data_path('GloSea4/ensemble_002.pp'))\n",
    "print cube1\n",
    "print cube2"
   ]
  },
  {
   "cell_type": "code",
   "execution_count": null,
   "metadata": {
    "collapsed": false
   },
   "outputs": [],
   "source": [
    "projection = iplt.default_projection(cube)\n",
    "fig = plt.figure(figsize=(12, 6))\n",
    "ax = fig.add_subplot(111, projection=projection)\n",
    "ax.coastlines()\n",
    "\n",
    "plot1 = Contourf(cube1, ax)\n",
    "plot2 = Contour(cube2, ax, cmap='viridis')\n",
    "\n",
    "Browser([plot1, plot2]).display()"
   ]
  },
  {
   "cell_type": "code",
   "execution_count": null,
   "metadata": {
    "collapsed": true
   },
   "outputs": [],
   "source": []
  }
 ],
 "metadata": {
  "kernelspec": {
   "display_name": "Python 2",
   "language": "python",
   "name": "python2"
  },
  "language_info": {
   "codemirror_mode": {
    "name": "ipython",
    "version": 2
   },
   "file_extension": ".py",
   "mimetype": "text/x-python",
   "name": "python",
   "nbconvert_exporter": "python",
   "pygments_lexer": "ipython2",
   "version": "2.7.11"
  },
  "widgets": {
   "state": {
    "0475554a4ad14c12a51b48ddfde5cfb5": {
     "views": []
    },
    "085e2d7b456542c2a2d42ab7eada4229": {
     "views": []
    },
    "1a561116424442ec8281c7afc7f7c825": {
     "views": []
    },
    "24dc7035adc24059a89dba2dfc7679be": {
     "views": []
    },
    "606bb515f49b4defb94be3d561b4b9ad": {
     "views": []
    },
    "6570926f67cd4bdaadaa96dad7aa7eaa": {
     "views": []
    },
    "7e16886893364202a1fb9b82ffce8cbd": {
     "views": []
    },
    "8fc9ec4b97304f74bc845f11a9e6ba03": {
     "views": []
    },
    "9490dbc254da4030b6a64535dd160239": {
     "views": []
    },
    "9edd896bf42a4ffba9efcef8024bffb2": {
     "views": []
    },
    "ae73eaaddfce441f87b1e5fdf96a37f3": {
     "views": []
    },
    "c8972ec5b5584dd0965be5f6b9bc61f3": {
     "views": []
    },
    "cd3e6461eaa64b49959a2f604dad9c53": {
     "views": []
    },
    "cef8970502a94610979dae5921b41af4": {
     "views": []
    },
    "cfd9ee44db0d4e53a151777dba60ccba": {
     "views": []
    },
    "ff7973fb7a384c4d95b5da48a5f2f75d": {
     "views": []
    }
   },
   "version": "1.1.1"
  }
 },
 "nbformat": 4,
 "nbformat_minor": 0
}
