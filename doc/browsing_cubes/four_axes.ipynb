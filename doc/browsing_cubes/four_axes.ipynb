{
 "cells": [
  {
   "cell_type": "code",
   "execution_count": null,
   "metadata": {},
   "outputs": [],
   "source": [
    "import iris\n",
    "import iris.plot as iplt\n",
    "import matplotlib.pyplot as plt\n",
    "\n",
    "from cube_browser import Contour, Browser, Contourf, Pcolormesh"
   ]
  },
  {
   "cell_type": "code",
   "execution_count": null,
   "metadata": {},
   "outputs": [],
   "source": [
    "air_potential_temperature = iris.load_cube(iris.sample_data_path('colpex.pp'), 'air_potential_temperature')"
   ]
  },
  {
   "cell_type": "code",
   "execution_count": null,
   "metadata": {},
   "outputs": [],
   "source": [
    "print air_potential_temperature"
   ]
  },
  {
   "cell_type": "code",
   "execution_count": null,
   "metadata": {},
   "outputs": [],
   "source": [
    "projection = iplt.default_projection(air_potential_temperature)\n",
    "\n",
    "ax1 = plt.subplot(221, projection=projection)\n",
    "ax2 = plt.subplot(222, projection=projection)\n",
    "ax3 = plt.subplot(223, projection=projection)\n",
    "ax4 = plt.subplot(224, projection=projection)\n",
    "\n",
    "cf1 = Pcolormesh(air_potential_temperature[0, 0], ax1)\n",
    "cf2 = Contour(air_potential_temperature[:, 0], ax2)\n",
    "cf3 = Contour(air_potential_temperature[0], ax3)\n",
    "cf4 = Pcolormesh(air_potential_temperature, ax4)\n",
    "\n",
    "Browser([cf1, cf2, cf3, cf4]).display()"
   ]
  },
  {
   "cell_type": "code",
   "execution_count": null,
   "metadata": {},
   "outputs": [],
   "source": [
    ""
   ]
  }
 ],
 "metadata": {
  "kernelspec": {
   "display_name": "Python 2",
   "language": "python",
   "name": "python2"
  },
  "language_info": {
   "codemirror_mode": {
    "name": "ipython",
    "version": 2.0
   },
   "file_extension": ".py",
   "mimetype": "text/x-python",
   "name": "python",
   "nbconvert_exporter": "python",
   "pygments_lexer": "ipython2",
   "version": "2.7.11"
  }
 },
 "nbformat": 4,
 "nbformat_minor": 0
}