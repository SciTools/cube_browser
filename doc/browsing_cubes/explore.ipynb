{
 "cells": [
  {
   "cell_type": "markdown",
   "metadata": {},
   "source": [
    "# Cube Explorer\n",
    "\n",
    "This is a notebook you can use to select mutliple cubes with which to make up to two plots.\n",
    "\n",
    "Run the top cell to see your widgets, and then make your selections in the Files, SubPlots and Plots menus.\n",
    "\n",
    "Select mutliple cubes by holding the Control button on your keyboard while making your selections.  Press 'add tab' to choose cubes from extra filepaths, and then load cubes from all tabs by pressing 'load these files'.\n",
    "\n"
   ]
  },
  {
   "cell_type": "code",
   "execution_count": null,
   "metadata": {
    "collapsed": false
   },
   "outputs": [],
   "source": [
    "import cube_browser.explorer\n",
    "exp = cube_browser.explorer.Explorer()"
   ]
  },
  {
   "cell_type": "code",
   "execution_count": null,
   "metadata": {
    "collapsed": false
   },
   "outputs": [],
   "source": [
    "print(exp.cubes)\n",
    "print(exp.mpl_kwargs)"
   ]
  }
 ],
 "metadata": {
  "kernelspec": {
   "display_name": "Python 2",
   "language": "python",
   "name": "python2"
  },
  "language_info": {
   "codemirror_mode": {
    "name": "ipython",
    "version": 2
   },
   "file_extension": ".py",
   "mimetype": "text/x-python",
   "name": "python",
   "nbconvert_exporter": "python",
   "pygments_lexer": "ipython2",
   "version": "2.7.11"
  },
  "widgets": {
   "state": {
    "008f99eaf3a54e84a00a4f0c635340fc": {
     "views": []
    },
    "09f78446d86a46d4aab1a43f3005b63f": {
     "views": []
    },
    "0ed137728a39481c83aafc0f0b2e1840": {
     "views": []
    },
    "0ff0892bcd72465e9bed0ab5ad335601": {
     "views": []
    },
    "18748b2190f349e8b5bf38443c2ee957": {
     "views": []
    },
    "2d0f151497844020b690f1752fd218d4": {
     "views": []
    },
    "3351a84e23024b77a0d64600e2d24849": {
     "views": []
    },
    "35be381a2cf848068f9e7bc8eb696939": {
     "views": []
    },
    "40839d867ca546b9925adf31dfa99167": {
     "views": []
    },
    "41a1a9fc552b492fa0790324842f5b25": {
     "views": []
    },
    "4a1fdc4ace0a47328ec5e08960bf4add": {
     "views": []
    },
    "4aabb71a740243ff957168e40c0aa4f0": {
     "views": []
    },
    "4ca36bb1167943268e48d671a659213c": {
     "views": []
    },
    "4d4c1d2735a04b069b78e5bdca95552b": {
     "views": []
    },
    "56ec42fa39ed456e9c64625267a0a9cb": {
     "views": []
    },
    "5891dc17f2cf4953ac50fdd8bbcd852c": {
     "views": []
    },
    "6158dc9f97914e28b7c91c317d2f2def": {
     "views": []
    },
    "7262f7ec0f8746469b50190fac019a7c": {
     "views": []
    },
    "7a851d97758c445f89474a51499734ef": {
     "views": []
    },
    "7c8eb5ba36614076a918d627da4894aa": {
     "views": []
    },
    "8215456a180e42d0a9a0883ee0aa7853": {
     "views": []
    },
    "877e5e6ecba244739c0306f9236e1a27": {
     "views": []
    },
    "91a7bc9f659e41eaaa85c74c9ae6c725": {
     "views": []
    },
    "9543870bbdb94407a3d53a3dc78c8992": {
     "views": []
    },
    "9946063383724ba6a2d39ad3ee675ac4": {
     "views": []
    },
    "9b7f6ff1014b434fae5125947109b13d": {
     "views": []
    },
    "a06b3d1f4e15445ab96c4c51881bf9f5": {
     "views": []
    },
    "a1ac26b1565b46c383f397501b97023c": {
     "views": []
    },
    "a88d87cb44dd4b84b0ddaa3bb1d542cd": {
     "views": []
    },
    "a9fdc89a55684e6d9265f53723d9e4f1": {
     "views": []
    },
    "b1526c5683154a2f9248c8288e3941e9": {
     "views": []
    },
    "b3f285d188694bb484da4af28919a989": {
     "views": []
    },
    "bbcd4c21b5d5442db0ed6c16fbf9a084": {
     "views": []
    },
    "bde653552903404eb5bac6260d46b4c1": {
     "views": []
    },
    "c1397ffc07054cfb89569c40652ada31": {
     "views": []
    },
    "c557ec05b5fd4f95b043b500e5dfe8b9": {
     "views": []
    },
    "ca31dcaede2a49d6abf6f1f82482bef3": {
     "views": []
    },
    "ccb1a7ccda70404abec8f93a33dd20e6": {
     "views": []
    },
    "ccf1dac66c5b4a3a8f4a0a0b82135dcb": {
     "views": []
    },
    "ce562a6c656d4a85af9437ed57ef9fe1": {
     "views": []
    },
    "d65dfcac98ed4df3b2446b29c5bacde7": {
     "views": []
    },
    "d698cba6f9144d5fba0125ccedf69997": {
     "views": []
    },
    "dcb74a86482146f3bac0bdda910966a4": {
     "views": []
    },
    "dd1264f730b34ba198d7301d09112906": {
     "views": []
    },
    "ddb08ba3ae944fcfaf035854aba00cc5": {
     "views": [
      {
       "cell_index": 1
      }
     ]
    },
    "e10b63b7ce7e42d88da1b1b7ff2730da": {
     "views": []
    },
    "e1fe78222bb84822909633a62af65c27": {
     "views": []
    },
    "e8765f0b4a5f4f82a1986e2cdb3e0358": {
     "views": []
    },
    "fa6d208169404304a0426b6b9c4f53d7": {
     "views": []
    },
    "fe6f399207604f4582861aa413527ccd": {
     "views": []
    }
   },
   "version": "1.1.1"
  }
 },
 "nbformat": 4,
 "nbformat_minor": 0
}
