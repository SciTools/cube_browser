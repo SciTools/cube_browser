{
 "cells": [
  {
   "cell_type": "markdown",
   "metadata": {},
   "source": [
    "# Linking up Cube Pickers and Plot Customization Options\n",
    "\n",
    "This is an example of a set of workflow options linked up with ipywidgets.  The options in this demo are for preparing one plot of an iris cube.\n",
    "\n",
    "There are some assumptions in this workflow:\n",
    "1. Data path is set to iris.sample_data_path\n",
    "2. Coordinates for plot axes will be longitude vs latitude\n",
    "3. Plot type will be line contour (plot customizations are applicable to this plot type)\n",
    "\n",
    "This notebook demostrates the links between some elements of a selection process."
   ]
  },
  {
   "cell_type": "code",
   "execution_count": null,
   "metadata": {
    "collapsed": false
   },
   "outputs": [],
   "source": [
    "import glob\n",
    "import IPython.display\n",
    "import ipywidgets\n",
    "import iris\n",
    "\n",
    "import cube_browser"
   ]
  },
  {
   "cell_type": "code",
   "execution_count": null,
   "metadata": {
    "collapsed": false
   },
   "outputs": [],
   "source": [
    "ipynb = IPython.get_ipython()\n",
    "if ipynb is not None:\n",
    "    ipynb.magic(u\"%matplotlib notebook\")\n",
    "    ipynb.magic(u\"%autosave 0\")"
   ]
  },
  {
   "cell_type": "code",
   "execution_count": null,
   "metadata": {
    "collapsed": false
   },
   "outputs": [],
   "source": [
    "# This filepath is a directory containing the set of options for the first selection box.\n",
    "path = '/home/h06/cbosley/Projects/iris-sample-data/sample_data'\n",
    "file_options = glob.glob('{}/*'.format(path)) \n",
    "\n",
    "# Here is the widget which allows the user to select a file from that directory\n",
    "files = ipywidgets.Select(\n",
    "    description='Cube(list)',\n",
    "    options=file_options,\n",
    "    width='100%')\n",
    "\n",
    "# This is the initial list for the next selection box.\n",
    "# I must define this now in order for it to be changed later upon selection.\n",
    "cubes = iris.load_raw(files.value)\n",
    "options = [None] + [cube.standard_name for cube in cubes]\n",
    "\n",
    "# This defines your next selection box (to choose the cube from your file) \n",
    "plots = ipywidgets.Select(\n",
    "    description='Choose cube',\n",
    "    options=options,\n",
    "    width='100%')\n",
    "\n",
    "# You can see that above, the options in the second box depend on the selection of the first.\n",
    "# When you change the selection in your first box, you want the options in the second box to change accordingly.\n",
    "# You must therefore define a function here which changes the values of the options displayed in your second box.\n",
    "def handle_cubes(sender):\n",
    "    cubes = iris.load_raw(files.value)\n",
    "    options = [None] + [cube.standard_name for cube in cubes]\n",
    "    plots.value = None\n",
    "    plots.options = options\n",
    "    plots.value = options[0]\n",
    "\n",
    "# The following line executes the behaviour in the 'handle_cubes' function upon a value change in the 'files' widget\n",
    "files.observe(handle_cubes, names='value')  \n",
    "\n",
    "# Now I want to make a button which will confirm the selection.  This will load the cube and display it.\n",
    "load_button = ipywidgets.Button(description='Choose this cube')\n",
    "def pick_cube(sender):\n",
    "    cube = iris.load_cube(files.value, plots.value)\n",
    "    print cube\n",
    "    return cube\n",
    "load_button.on_click(pick_cube)\n",
    "\n",
    "# Next I need to offer some plot customizations.  \n",
    "# The following is a list of widgets which can be used to choose customization options.\n",
    "colors = ipywidgets.Dropdown(\n",
    "    options=['None', 'blue', 'green', 'red', 'cyan', 'magenta', 'yellow', 'black', 'white'],\n",
    "    value='blue',\n",
    "    description='colors')\n",
    "cmap = ipywidgets.Dropdown(\n",
    "    options=['None', 'viridis', 'inferno', 'plasma', 'magma', 'jet', 'summer', 'autumn'],\n",
    "    value='None',\n",
    "    description='cmap')\n",
    "norm = ipywidgets.Dropdown(\n",
    "    options=['None', 'Autoscale(A)', 'Autoscale_None(A)', 'scaled()'],\n",
    "    value='None',\n",
    "    description='norm')\n",
    "levels = ipywidgets.Text(\n",
    "    description='levels',\n",
    "    value='np.linspace(np.min(cube.data), np.max(cube.data), 10)')\n",
    "origin = ipywidgets.Dropdown(\n",
    "    options=['None', 'upper', 'lower', 'image'],\n",
    "    value='None',\n",
    "    description='origin')\n",
    "extend = ipywidgets.Dropdown(\n",
    "    options=['neither', 'both', 'min', 'max'],\n",
    "    value='both',\n",
    "    description='extend')\n",
    "linestyles = ipywidgets.Dropdown(\n",
    "    options=['None', 'solid', 'dashed', 'dashdot', 'dotted'],\n",
    "    value='None',\n",
    "    description='linestyle')\n",
    "\n",
    "formatting = [colors, cmap, norm, levels, origin, extend, linestyles]\n",
    "\n",
    "# This button will prompt the appearance of the customization options above.\n",
    "confirm_button = ipywidgets.Button(description='Customize')\n",
    "def custom_options(sender):\n",
    "    for i in range(len(formatting)):\n",
    "        IPython.display.display(formatting[i])    \n",
    "confirm_button.on_click(custom_options)\n",
    "\n",
    "# container is a box with all the selectors I want to display in it.\n",
    "container1 = ipywidgets.Box(children=[files, plots])\n",
    "container2 = ipywidgets.Box(children=[load_button, confirm_button])\n",
    "IPython.display.display(container1, container2)"
   ]
  },
  {
   "cell_type": "code",
   "execution_count": null,
   "metadata": {
    "collapsed": true
   },
   "outputs": [],
   "source": [
    "\n"
   ]
  }
 ],
 "metadata": {
  "kernelspec": {
   "display_name": "Python 2",
   "language": "python",
   "name": "python2"
  },
  "language_info": {
   "codemirror_mode": {
    "name": "ipython",
    "version": 2
   },
   "file_extension": ".py",
   "mimetype": "text/x-python",
   "name": "python",
   "nbconvert_exporter": "python",
   "pygments_lexer": "ipython2",
   "version": "2.7.11"
  },
  "widgets": {
   "state": {
    "0bf6d6a510c14c3e90c0de033ab983fc": {
     "views": [
      {
       "cell_index": 3
      }
     ]
    },
    "0c79b640f2dd41258d17c5b9d9a744ba": {
     "views": []
    },
    "1270d816b9224aa49536cb6c05cb1789": {
     "views": []
    },
    "19da9d32abe943f9819c29c324d182be": {
     "views": []
    },
    "1ad4ed491b4f4df8851e2889cf4fdcd7": {
     "views": []
    },
    "1bbf6389088545b08980ccbde5800571": {
     "views": [
      {
       "cell_index": 3
      }
     ]
    },
    "1c37839e1f6e431b8a8ba9b4295039d7": {
     "views": []
    },
    "2b89558374824c58b9d6facd1227723a": {
     "views": []
    },
    "326a847bf12c45258198dad3945f889f": {
     "views": []
    },
    "32f190f32afb417eaf350cb3eb65db58": {
     "views": []
    },
    "35616226778a41b291ef7d4411e1f180": {
     "views": []
    },
    "390090e811944a83bd13b33e00d38196": {
     "views": [
      {
       "cell_index": 3
      }
     ]
    },
    "3a9917b052fb4f20b82e9429eb5a96d8": {
     "views": []
    },
    "3bd5c5721f8c4afcab3ee8a8e78c3506": {
     "views": []
    },
    "3c1e7009d9264cb8a5550f02122b25e1": {
     "views": []
    },
    "3c614f0170b94e099112065a7718999b": {
     "views": []
    },
    "49163f7400b04e658827e51d8c3480e5": {
     "views": []
    },
    "4ddb6272507e4b428db6b6d3dd65c8e8": {
     "views": []
    },
    "4f8ae52e716048e5b4acac9e5af5472e": {
     "views": []
    },
    "4fab97b168cc4bf7b14b000071b26adc": {
     "views": [
      {
       "cell_index": 3
      }
     ]
    },
    "5833e1ad6510455da7ef4eacf14d4f44": {
     "views": []
    },
    "58379a5632834f4b8fb4affa744b046c": {
     "views": []
    },
    "6400a4d69aac4321b3b203b6e0f33c07": {
     "views": []
    },
    "6dbef15b504f4c2f92d58e98552298d1": {
     "views": [
      {
       "cell_index": 3
      }
     ]
    },
    "6f46e3e6e41741c7ab3cf56c79537f9c": {
     "views": []
    },
    "7077644e3ad84c188d626e3f1ffbf74a": {
     "views": []
    },
    "71bb69703249406da476824cdedbe036": {
     "views": []
    },
    "741c8ace2ace4d7b976b2c4d041368de": {
     "views": []
    },
    "7aed09533da04c68bfa0f6bc490c607d": {
     "views": []
    },
    "7b1992364d974149a0bec0aec7118199": {
     "views": []
    },
    "7fab7140b33141e2a501537e84cc6258": {
     "views": []
    },
    "85a53f6b13a343e190d1cf624f1f903f": {
     "views": []
    },
    "86ac5ba4af5f44d4b3e7c8f87f83f7d8": {
     "views": []
    },
    "8d14731ec16044a6be3e961162763061": {
     "views": []
    },
    "8fa717e0186f4a29b79839a6fe8e0e52": {
     "views": []
    },
    "93dbcfa4083a46ac85aef46bf323d4fc": {
     "views": []
    },
    "9620c241518743a4b6ce5d5b8e61e4d1": {
     "views": [
      {
       "cell_index": 3
      }
     ]
    },
    "9f4bf7c4854d42dba4c66059aafd8e42": {
     "views": []
    },
    "a0ba7914434548b3ada7fddeacbcca9e": {
     "views": []
    },
    "ad0a4417da4a4903989d81d24bbfe406": {
     "views": []
    },
    "b158058a23c84e1593dcdfbbd729e120": {
     "views": []
    },
    "b384b22cfd7e48f4ad1d59d0609801ad": {
     "views": []
    },
    "b8a1e69ef63c4269b6044bf946619509": {
     "views": []
    },
    "bee6b2f012b143159e1c67cd1fcc4149": {
     "views": [
      {
       "cell_index": 3
      }
     ]
    },
    "c76d5ed7c88f49b2af1da6393ff959f1": {
     "views": []
    },
    "d0433316df20478b943bc3b0bd951229": {
     "views": [
      {
       "cell_index": 3
      }
     ]
    },
    "d676bbb7b9c5466c8975ac3984d25c77": {
     "views": []
    },
    "d7cc448043b74aea95eb49bcd0f4cd38": {
     "views": []
    },
    "d89db8ccfa0d439bbc5f216f0c8ee5e3": {
     "views": []
    },
    "d93211f8415e42679b0d1b6322b3699b": {
     "views": []
    },
    "e14e204822e04884b2da9f2ce6dc1101": {
     "views": []
    },
    "e5a1b8c8dce84ad0a1e2ae05fb2cd9d7": {
     "views": []
    },
    "e7d5d50c07154a4da596d1812efba93a": {
     "views": [
      {
       "cell_index": 3
      }
     ]
    },
    "ec9202df02c84e84ab43a50a7e0f130b": {
     "views": []
    },
    "eed32fa565db494f881aa526f80968a6": {
     "views": [
      {
       "cell_index": 3
      }
     ]
    },
    "ff31ef91c1b14954977b014ba2d7dd3a": {
     "views": []
    }
   },
   "version": "1.1.1"
  }
 },
 "nbformat": 4,
 "nbformat_minor": 0
}
