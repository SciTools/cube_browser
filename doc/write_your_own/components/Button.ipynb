{
 "cells": [
  {
   "cell_type": "code",
   "execution_count": null,
   "metadata": {
    "collapsed": false
   },
   "outputs": [],
   "source": [
    "import ipywidgets\n",
    "import IPython.display\n",
    "import iris\n",
    "import iris.plot as iplt\n",
    "import matplotlib.pyplot as plt\n",
    "\n",
    "from cube_browser import Contour, Browser, Contourf, Pcolormesh"
   ]
  },
  {
   "cell_type": "code",
   "execution_count": null,
   "metadata": {
    "collapsed": false
   },
   "outputs": [],
   "source": [
    "cube = iris.load_cube(iris.sample_data_path('GloSea4/ensemble_001.pp'))\n",
    "print cube"
   ]
  },
  {
   "cell_type": "code",
   "execution_count": null,
   "metadata": {
    "collapsed": false
   },
   "outputs": [],
   "source": [
    "go_button = ipywidgets.Button(\n",
    "            description='Press Me!')\n",
    "\n",
    "IPython.display.display(go_button)\n",
    "\n",
    "def on_button_clicked(b):\n",
    "    projection = iplt.default_projection(cube)\n",
    "    \n",
    "    ax = plt.subplot(111, projection=projection)\n",
    "    plot = Contourf(cube, ax)\n",
    "    Browser([plot]).display()\n",
    "\n",
    "go_button.on_click(on_button_clicked)"
   ]
  },
  {
   "cell_type": "code",
   "execution_count": null,
   "metadata": {
    "collapsed": true
   },
   "outputs": [],
   "source": []
  }
 ],
 "metadata": {
  "kernelspec": {
   "display_name": "Python 2",
   "language": "python",
   "name": "python2"
  },
  "language_info": {
   "codemirror_mode": {
    "name": "ipython",
    "version": 2
   },
   "file_extension": ".py",
   "mimetype": "text/x-python",
   "name": "python",
   "nbconvert_exporter": "python",
   "pygments_lexer": "ipython2",
   "version": "2.7.11"
  },
  "widgets": {
   "state": {
    "1edcc4af77af4976b5838cf237cf97ce": {
     "views": []
    },
    "2d49717125134656af7359e7f74cdc90": {
     "views": []
    },
    "3aaeb201890648d3b2942bcc6ce6f971": {
     "views": []
    },
    "4070ea2f1df8476e936604cf1b7d6ff0": {
     "views": []
    },
    "487274afe1434b1dbc66ce1b0e44f98f": {
     "views": []
    },
    "6e02b18a5f2644d5b79fec9e6c114e24": {
     "views": []
    },
    "6f15b59c56c442119a928a9f3b2ec7fd": {
     "views": []
    },
    "6faafbea22884f97b116e2e7d5317914": {
     "views": []
    },
    "7de59f9a01f447e1bf1176da85f5839b": {
     "views": []
    },
    "8a6f4781454f41eeb1ae77d224f0b40a": {
     "views": []
    },
    "9396b98c916e4b0194ae6ad980b7348e": {
     "views": []
    },
    "9d1e1f32af4045ff9075a24985ff2c61": {
     "views": []
    },
    "a2651bb99a19493cb774c943b9c01fab": {
     "views": []
    },
    "a3e7bc37a786488f99f4e44fa88b8a2d": {
     "views": []
    },
    "c859363e87094dc79d7bb90ec7735110": {
     "views": []
    },
    "cadaab4d19764350bcad97764cb0031e": {
     "views": []
    },
    "d480a835a517476aa5c07b2feb0e5f05": {
     "views": [
      {
       "cell_index": 2
      }
     ]
    },
    "f34783c977284a8e9b5bb8afc9056995": {
     "views": []
    },
    "f37173dd5cc14ea890aed60e1affb00e": {
     "views": []
    },
    "fb0b85077ea14d1d90b935f4203dcbc4": {
     "views": []
    }
   },
   "version": "1.1.1"
  }
 },
 "nbformat": 4,
 "nbformat_minor": 0
}
