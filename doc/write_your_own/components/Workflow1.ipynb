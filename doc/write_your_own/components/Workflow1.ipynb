{
 "cells": [
  {
   "cell_type": "markdown",
   "metadata": {
    "urth": {
     "dashboard": {}
    }
   },
   "source": [
    "# Selection Process\n",
    "\n",
    "This is a demonstration of a chain of widgets that can be used in the data plotting process.  Several of these widgets are dependant on the selected values of the previous widgets."
   ]
  },
  {
   "cell_type": "code",
   "execution_count": null,
   "metadata": {
    "collapsed": false,
    "urth": {
     "dashboard": {
      "hidden": true
     }
    }
   },
   "outputs": [],
   "source": [
    "import ipywidgets\n",
    "import IPython.display\n",
    "import iris\n",
    "\n",
    "import glob\n",
    "import numpy as np\n",
    "import iris.quickplot as iplt\n",
    "import matplotlib.pyplot as plt"
   ]
  },
  {
   "cell_type": "markdown",
   "metadata": {
    "urth": {
     "dashboard": {}
    }
   },
   "source": [
    "# 1. Choose and load your cube"
   ]
  },
  {
   "cell_type": "markdown",
   "metadata": {
    "urth": {
     "dashboard": {
      "hidden": true
     }
    }
   },
   "source": [
    "Create cube picker consiting of a text input box for the file path and a selection widget for the cube selector."
   ]
  },
  {
   "cell_type": "code",
   "execution_count": null,
   "metadata": {
    "collapsed": false,
    "urth": {
     "dashboard": {
      "layout": {}
     }
    }
   },
   "outputs": [],
   "source": [
    "path = ipywidgets.Text(\n",
    "    description='Filepath',\n",
    "    value='/tmp',\n",
    "    width='100%')\n",
    "\n",
    "IPython.display.display(path)"
   ]
  },
  {
   "cell_type": "code",
   "execution_count": null,
   "metadata": {
    "collapsed": false,
    "urth": {
     "dashboard": {
      "layout": {}
     }
    }
   },
   "outputs": [],
   "source": [
    "options = glob.glob('{}/*'.format(path.value)) \n",
    "\n",
    "files = ipywidgets.Select(\n",
    "    description='Cube(list)',\n",
    "    options=options,\n",
    "    width='100%')\n",
    "IPython.display.display(files)"
   ]
  },
  {
   "cell_type": "markdown",
   "metadata": {},
   "source": [
    "Make a variable to store and load the cube or cubes in the file you have selected."
   ]
  },
  {
   "cell_type": "code",
   "execution_count": null,
   "metadata": {
    "collapsed": false,
    "urth": {
     "dashboard": {
      "hidden": true
     }
    }
   },
   "outputs": [],
   "source": [
    "cubes = files.value\n",
    "\n",
    "cubelist = iris.load_raw(cubes)\n",
    "\n",
    "print cubelist        "
   ]
  },
  {
   "cell_type": "markdown",
   "metadata": {
    "urth": {
     "dashboard": {}
    }
   },
   "source": [
    "Create a selection pane for choosing which cube to plot."
   ]
  },
  {
   "cell_type": "code",
   "execution_count": null,
   "metadata": {
    "collapsed": false,
    "urth": {
     "dashboard": {
      "layout": {}
     }
    }
   },
   "outputs": [],
   "source": [
    "to_plot = [cube.standard_name for cube in cubelist]\n",
    "\n",
    "plots = ipywidgets.Multiple(\n",
    "description='Choose cube(s)',\n",
    "options=to_plot)\n",
    "\n",
    "IPython.display.display(plots)"
   ]
  },
  {
   "cell_type": "markdown",
   "metadata": {
    "urth": {
     "dashboard": {}
    }
   },
   "source": [
    "# 2. Choose your plot options"
   ]
  },
  {
   "cell_type": "markdown",
   "metadata": {
    "urth": {
     "dashboard": {
      "hidden": true
     }
    }
   },
   "source": [
    "Create plot-type picker"
   ]
  },
  {
   "cell_type": "code",
   "execution_count": null,
   "metadata": {
    "collapsed": true,
    "urth": {
     "dashboard": {
      "layout": {}
     }
    }
   },
   "outputs": [],
   "source": [
    "plot_type_dict = {'contour': iplt.contour, 'contourf': iplt.contourf, 'pcolor': iplt.pcolor, 'outline': iplt.outline,\n",
    "                  'pcolormesh': iplt.pcolormesh, 'plot': iplt.plot, 'points': iplt.points}\n",
    "\n",
    "plot_types = plot_type_dict.keys()\n",
    "plot_types.sort()\n",
    "\n",
    "type = ipywidgets.Dropdown(\n",
    "    options=plot_types,\n",
    "    value='contour',\n",
    "    description='Plot-type:')\n",
    "\n",
    "IPython.display.display(type)"
   ]
  },
  {
   "cell_type": "markdown",
   "metadata": {
    "urth": {
     "dashboard": {
      "hidden": true
     }
    }
   },
   "source": [
    "Create axis coordinate pickers for x and y axis."
   ]
  },
  {
   "cell_type": "code",
   "execution_count": null,
   "metadata": {
    "collapsed": false,
    "urth": {
     "dashboard": {
      "layout": {}
     }
    }
   },
   "outputs": [],
   "source": [
    "base_cube = iris.load_cube(files.value, plots.value[0])\n",
    "coordinates = [(coord.name()) for coord in base_cube.coords()]\n",
    "\n",
    "for i in range(len(plots.value)):\n",
    "    coordinates.append(plots.value[i])\n",
    "\n",
    "dim_x = ipywidgets.RadioButtons(\n",
    "    description='Dimension for x:',\n",
    "    options=coordinates)\n",
    "\n",
    "IPython.display.display(dim_x)"
   ]
  },
  {
   "cell_type": "code",
   "execution_count": null,
   "metadata": {
    "collapsed": false,
    "urth": {
     "dashboard": {
      "layout": {}
     }
    }
   },
   "outputs": [],
   "source": [
    "if dim_x.value in coordinates:\n",
    "    coordinates.remove(dim_x.value)\n",
    "\n",
    "dim_y = ipywidgets.RadioButtons(\n",
    "    description='Dimension for y:',\n",
    "    options=coordinates)\n",
    "\n",
    "IPython.display.display(dim_y)"
   ]
  },
  {
   "cell_type": "markdown",
   "metadata": {
    "urth": {
     "dashboard": {}
    }
   },
   "source": [
    "# 3. Choose your formatting options"
   ]
  },
  {
   "cell_type": "markdown",
   "metadata": {},
   "source": [
    "Construct a set of widgets to present options for plot customization.  Some of the options are only applicable to certain types of plots, so these widgets are dependant on the value of the plot-type widget."
   ]
  },
  {
   "cell_type": "code",
   "execution_count": null,
   "metadata": {
    "collapsed": false,
    "urth": {
     "dashboard": {}
    }
   },
   "outputs": [],
   "source": [
    "# All:\n",
    "colors = ipywidgets.Dropdown(\n",
    "    options=['None', 'blue', 'green', 'red', 'cyan', 'magenta', 'yellow', 'black', 'white'],\n",
    "    value='blue',\n",
    "    description='colors')\n",
    "cmap = ipywidgets.Dropdown(\n",
    "    options=['None', 'viridis', 'inferno', 'plasma', 'magma', 'jet', 'summer', 'autumn'],\n",
    "    value='None',\n",
    "    description='cmap')\n",
    "norm = ipywidgets.Dropdown(\n",
    "    options=['None', 'Autoscale(A)', 'Autoscale_None(A)', 'scaled()'],\n",
    "    value='None',\n",
    "    description='norm')\n",
    "levels = ipywidgets.Text(\n",
    "    description='levels',\n",
    "    value='np.linspace(np.min(cube.data), np.max(cube.data), 10)')\n",
    "origin = ipywidgets.Dropdown(\n",
    "    options=['None', 'upper', 'lower', 'image'],\n",
    "    value='None',\n",
    "    description='origin')\n",
    "extend = ipywidgets.Dropdown(\n",
    "    options=['neither', 'both', 'min', 'max'],\n",
    "    value='both',\n",
    "    description='extend')\n",
    "# Contour-only:\n",
    "linestyles = ipywidgets.Dropdown(\n",
    "    options=['None', 'solid', 'dashed', 'dashdot', 'dotted'],\n",
    "    value='None',\n",
    "    description='linestyle')\n",
    "# Plot only:\n",
    "label = ipywidgets.Text(\n",
    "    description='label',\n",
    "    value='Line Plot')\n",
    "# Plot and Points only:\n",
    "color = ipywidgets.Dropdown(\n",
    "    options=['blue', 'green', 'red', 'cyan', 'magenta', 'yellow', 'black', 'white'],\n",
    "    value='blue',\n",
    "    description='color')\n",
    "marker = ipywidgets.Dropdown(\n",
    "    options=['-', '--', '-.', ':', '.', ',', 'o', 'v', '^', '<', '>', '*', 'x'],\n",
    "    value='-',\n",
    "    description='marker')\n",
    "    \n",
    "formatting = [colors, cmap, norm, levels, origin, extend]\n",
    "    \n",
    "if type.value in ['contourf', 'outline', 'pcolor', 'pcolormesh']:\n",
    "    for i in range(len(formatting)):\n",
    "        IPython.display.display(formatting[i])\n",
    "elif type.value == 'contour':\n",
    "    formatting.append(linestyles)\n",
    "    for i in range(len(formatting)):\n",
    "        IPython.display.display(formatting[i])\n",
    "elif type.value == 'plot':\n",
    "    formatting.append(label)\n",
    "    formatting.append(color)\n",
    "    formatting.append(marker)\n",
    "    for i in range(len(formatting)):\n",
    "        IPython.display.display(formatting[i])\n",
    "elif type.value == 'points':\n",
    "    formatting.remove(colors)\n",
    "    formatting.append(color)\n",
    "    formatting.append(marker)    \n",
    "    for i in range(len(formatting)):\n",
    "        IPython.display.display(formatting[i])\n",
    "    "
   ]
  }
 ],
 "metadata": {
  "kernelspec": {
   "display_name": "Python 2",
   "language": "python",
   "name": "python2"
  },
  "language_info": {
   "codemirror_mode": {
    "name": "ipython",
    "version": 2
   },
   "file_extension": ".py",
   "mimetype": "text/x-python",
   "name": "python",
   "nbconvert_exporter": "python",
   "pygments_lexer": "ipython2",
   "version": "2.7.11"
  },
  "urth": {
   "dashboard": {
    "layout": "report"
   }
  },
  "widgets": {
   "state": {
    "015cac66d8244be5ae5ac9082a0957b6": {
     "views": []
    },
    "06e3f563b2d24423adde4bb635df80aa": {
     "views": []
    },
    "1c177cc79f914416a72801df9cbecbe9": {
     "views": []
    },
    "26bec8cc68eb423780fe1e4421911348": {
     "views": []
    },
    "291e48679a47471fb78998f2faf45a3d": {
     "views": []
    },
    "296fab8eb89643d5953f5f9b00703bb5": {
     "views": []
    },
    "2cd8eeb560d94d3ab99777bb2ab9e9c3": {
     "views": [
      {
       "cell_index": 16
      }
     ]
    },
    "30ac173ea50248a88727fdbdd0e6e26a": {
     "views": []
    },
    "31637a324f12423c8467df79dfe00bad": {
     "views": []
    },
    "37abdd4f3fb54adf84767fa24a52d502": {
     "views": []
    },
    "3d195d3ead814b99997f207d747228aa": {
     "views": []
    },
    "3d6fa96a95554fdb9e516c3c77c47308": {
     "views": []
    },
    "3d713ba9db5f4e6babf306cda508837d": {
     "views": []
    },
    "4597ac83845c4b04bbcb667b5335557d": {
     "views": []
    },
    "4849021463614a05b68b16c4842695d0": {
     "views": []
    },
    "553ebca90ac24f37bef88b75cdd3bba4": {
     "views": []
    },
    "56fd553e257041e9b6bd8971a7d56da4": {
     "views": []
    },
    "5d71001cfe21447eb615c39bfb191661": {
     "views": []
    },
    "5ec94be7b27e4a11a59b690ec52e1098": {
     "views": []
    },
    "6807c169b9214a3a826012aef58e8e68": {
     "views": []
    },
    "6e6f0b3b2c15431c83eab4a7198509b4": {
     "views": []
    },
    "711b19b95dd148db96d6fdb6084ae23a": {
     "views": []
    },
    "74c8a9713ac84c9a88d0815139dfdd78": {
     "views": []
    },
    "78905ac985234f2facb585abaa134cc9": {
     "views": []
    },
    "799a711ec854468eb1042a3a65b2b409": {
     "views": []
    },
    "836aeed6fa9b4a75b9599defa474eac2": {
     "views": []
    },
    "89d49b4f77cf489f831b037f28b38b0b": {
     "views": []
    },
    "8f30173018c547e4a43d84b88496b93b": {
     "views": []
    },
    "9097708f86d54e41addfef0d48053575": {
     "views": []
    },
    "9900add243ce4658ad7c305df68329d1": {
     "views": []
    },
    "99591eee371842829c4d659cccc4be35": {
     "views": []
    },
    "9b75768d6f0b4337b76973e6a492701b": {
     "views": []
    },
    "b6d3b7fcaea84027a437abf644d951ab": {
     "views": []
    },
    "c491a567d54a435d8c9b12eb10f75603": {
     "views": []
    },
    "c809a5e5784e4056b381936016fa2c8d": {
     "views": []
    },
    "cdcd257ae06b41f788f1b0e232b8db8d": {
     "views": []
    },
    "d3f251c70d3c4f6e85ccbc8f04e63f42": {
     "views": []
    },
    "d8b436f0060243b4ba00d05053cf8b27": {
     "views": []
    },
    "d8c23c98708d4fef9fdf9a906dc881ee": {
     "views": []
    },
    "f4b4c3c3db4643278f71b5bc1b83a7c0": {
     "views": []
    },
    "f7520785b0754c539d8d848877856266": {
     "views": []
    },
    "fa2b27e0f9d84ad8a26971b6c90e9712": {
     "views": []
    }
   },
   "version": "1.1.1"
  }
 },
 "nbformat": 4,
 "nbformat_minor": 0
}
