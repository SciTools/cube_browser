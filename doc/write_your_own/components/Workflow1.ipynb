{
 "cells": [
  {
   "cell_type": "markdown",
   "metadata": {
    "urth": {
     "dashboard": {}
    }
   },
   "source": [
    "# Selection Process\n",
    "\n",
    "This is a demonstration of a chain of widgets that can be used in the data plotting process.  Several of these widgets are dependant on the selected values of the previous widgets."
   ]
  },
  {
   "cell_type": "code",
   "execution_count": null,
   "metadata": {
    "collapsed": false,
    "urth": {
     "dashboard": {
      "hidden": true
     }
    }
   },
   "outputs": [],
   "source": [
    "from collections import OrderedDict\n",
    "\n",
    "import IPython.display\n",
    "import glob\n",
    "import ipywidgets\n",
    "import iris\n",
    "import iris.quickplot as iplt\n",
    "import matplotlib.pyplot as plt\n",
    "import numpy as np\n",
    "import os"
   ]
  },
  {
   "cell_type": "markdown",
   "metadata": {
    "urth": {
     "dashboard": {}
    }
   },
   "source": [
    "## 1. Choose and load your cube"
   ]
  },
  {
   "cell_type": "markdown",
   "metadata": {
    "urth": {
     "dashboard": {
      "hidden": true
     }
    }
   },
   "source": [
    "Create cube picker consisting of a text input box for the file path and a selection widget for the cube selector."
   ]
  },
  {
   "cell_type": "code",
   "execution_count": null,
   "metadata": {
    "collapsed": false,
    "urth": {
     "dashboard": {
      "layout": {}
     }
    }
   },
   "outputs": [],
   "source": [
    "path = ipywidgets.Text(\n",
    "    description='Filepath',\n",
    "    value='/home/main/anaconda2/lib/python2.7/site-packages/iris_sample_data/sample_data/',\n",
    "    width='100%')\n",
    "\n",
    "IPython.display.display(path)"
   ]
  },
  {
   "cell_type": "code",
   "execution_count": null,
   "metadata": {
    "collapsed": false,
    "urth": {
     "dashboard": {
      "layout": {}
     }
    }
   },
   "outputs": [],
   "source": [
    "options = glob.glob('{}/*'.format(path.value)) \n",
    "\n",
    "files = ipywidgets.Select(\n",
    "    description='Dataset(s)',\n",
    "    options=OrderedDict([(os.path.basename(f), f)\n",
    "                                 for f in options]),\n",
    "    width='200%')\n",
    "IPython.display.display(files)"
   ]
  },
  {
   "cell_type": "markdown",
   "metadata": {},
   "source": [
    "Make a variable to store and load the cube or cubes in the file you have selected."
   ]
  },
  {
   "cell_type": "code",
   "execution_count": null,
   "metadata": {
    "collapsed": false,
    "urth": {
     "dashboard": {
      "hidden": true
     }
    }
   },
   "outputs": [],
   "source": [
    "cubes = files.value\n",
    "\n",
    "cubelist = iris.load_raw(cubes)\n",
    "\n",
    "print cubelist        "
   ]
  },
  {
   "cell_type": "markdown",
   "metadata": {
    "urth": {
     "dashboard": {}
    }
   },
   "source": [
    "Create a selection pane for choosing which cube to plot."
   ]
  },
  {
   "cell_type": "code",
   "execution_count": null,
   "metadata": {
    "collapsed": false,
    "urth": {
     "dashboard": {
      "layout": {}
     }
    }
   },
   "outputs": [],
   "source": [
    "to_plot = [cube.standard_name for cube in cubelist]\n",
    "\n",
    "plots = ipywidgets.Select(\n",
    "description='Choose cube(s)',\n",
    "options=to_plot)\n",
    "\n",
    "IPython.display.display(plots)"
   ]
  },
  {
   "cell_type": "markdown",
   "metadata": {
    "urth": {
     "dashboard": {}
    }
   },
   "source": [
    "## 2. Choose your plot options"
   ]
  },
  {
   "cell_type": "markdown",
   "metadata": {
    "urth": {
     "dashboard": {
      "hidden": true
     }
    }
   },
   "source": [
    "Create plot-type picker"
   ]
  },
  {
   "cell_type": "code",
   "execution_count": null,
   "metadata": {
    "collapsed": true,
    "urth": {
     "dashboard": {
      "layout": {}
     }
    }
   },
   "outputs": [],
   "source": [
    "plot_type_dict = {'contour': iplt.contour, 'contourf': iplt.contourf, 'pcolor': iplt.pcolor, 'outline': iplt.outline,\n",
    "                  'pcolormesh': iplt.pcolormesh, 'plot': iplt.plot, 'points': iplt.points}\n",
    "\n",
    "plot_types = plot_type_dict.keys()\n",
    "plot_types.sort()\n",
    "\n",
    "type = ipywidgets.Dropdown(\n",
    "    options=plot_types,\n",
    "    value='contour',\n",
    "    description='Plot-type:')\n",
    "\n",
    "IPython.display.display(type)"
   ]
  },
  {
   "cell_type": "markdown",
   "metadata": {
    "urth": {
     "dashboard": {
      "hidden": true
     }
    }
   },
   "source": [
    "Create axis coordinate pickers for x and y axis."
   ]
  },
  {
   "cell_type": "code",
   "execution_count": null,
   "metadata": {
    "collapsed": false,
    "urth": {
     "dashboard": {
      "layout": {}
     }
    }
   },
   "outputs": [],
   "source": [
    "base_cube = iris.load_cube(files.value, plots.value[0])\n",
    "coordinates = [(coord.name()) for coord in base_cube.coords()]\n",
    "\n",
    "for i in range(len(plots.value)):\n",
    "    coordinates.append(plots.value[i])\n",
    "\n",
    "dim_x = ipywidgets.RadioButtons(\n",
    "    description='Dimension for x:',\n",
    "    options=coordinates)\n",
    "\n",
    "IPython.display.display(dim_x)"
   ]
  },
  {
   "cell_type": "code",
   "execution_count": null,
   "metadata": {
    "collapsed": false,
    "urth": {
     "dashboard": {
      "layout": {}
     }
    }
   },
   "outputs": [],
   "source": [
    "if dim_x.value in coordinates:\n",
    "    coordinates.remove(dim_x.value)\n",
    "\n",
    "dim_y = ipywidgets.RadioButtons(\n",
    "    description='Dimension for y:',\n",
    "    options=coordinates)\n",
    "\n",
    "IPython.display.display(dim_y)"
   ]
  },
  {
   "cell_type": "markdown",
   "metadata": {
    "urth": {
     "dashboard": {}
    }
   },
   "source": [
    "## 3. Choose your formatting options"
   ]
  },
  {
   "cell_type": "markdown",
   "metadata": {},
   "source": [
    "Construct a set of widgets to present options for plot customization.  Some of the options are only applicable to certain types of plots, so these widgets are dependant on the value of the plot-type widget."
   ]
  },
  {
   "cell_type": "code",
   "execution_count": null,
   "metadata": {
    "collapsed": false,
    "urth": {
     "dashboard": {}
    }
   },
   "outputs": [],
   "source": [
    "# All:\n",
    "colors = ipywidgets.Dropdown(\n",
    "    options=['None', 'blue', 'green', 'red', 'cyan', 'magenta', 'yellow', 'black', 'white'],\n",
    "    value='blue',\n",
    "    description='colors')\n",
    "cmap = ipywidgets.Dropdown(\n",
    "    options=['None', 'viridis', 'inferno', 'plasma', 'magma', 'jet', 'summer', 'autumn'],\n",
    "    value='None',\n",
    "    description='cmap')\n",
    "norm = ipywidgets.Dropdown(\n",
    "    options=['None', 'Autoscale(A)', 'Autoscale_None(A)', 'scaled()'],\n",
    "    value='None',\n",
    "    description='norm')\n",
    "levels = ipywidgets.Text(\n",
    "    description='levels',\n",
    "    value='np.linspace(np.min(cube.data), np.max(cube.data), 10)')\n",
    "origin = ipywidgets.Dropdown(\n",
    "    options=['None', 'upper', 'lower', 'image'],\n",
    "    value='None',\n",
    "    description='origin')\n",
    "extend = ipywidgets.Dropdown(\n",
    "    options=['neither', 'both', 'min', 'max'],\n",
    "    value='both',\n",
    "    description='extend')\n",
    "# Contour-only:\n",
    "linestyles = ipywidgets.Dropdown(\n",
    "    options=['None', 'solid', 'dashed', 'dashdot', 'dotted'],\n",
    "    value='None',\n",
    "    description='linestyle')\n",
    "# Plot only:\n",
    "label = ipywidgets.Text(\n",
    "    description='label',\n",
    "    value='Line Plot')\n",
    "# Plot and Points only:\n",
    "color = ipywidgets.Dropdown(\n",
    "    options=['blue', 'green', 'red', 'cyan', 'magenta', 'yellow', 'black', 'white'],\n",
    "    value='blue',\n",
    "    description='color')\n",
    "marker = ipywidgets.Dropdown(\n",
    "    options=['-', '--', '-.', ':', '.', ',', 'o', 'v', '^', '<', '>', '*', 'x'],\n",
    "    value='-',\n",
    "    description='marker')\n",
    "    \n",
    "formatting = [colors, cmap, norm, levels, origin, extend]"
   ]
  },
  {
   "cell_type": "code",
   "execution_count": null,
   "metadata": {
    "collapsed": true
   },
   "outputs": [],
   "source": [
    "if type.value in ['contourf', 'outline', 'pcolor', 'pcolormesh']:\n",
    "    for i in range(len(formatting)):\n",
    "        IPython.display.display(formatting[i])\n",
    "elif type.value == 'contour':\n",
    "    formatting.append(linestyles)\n",
    "    for i in range(len(formatting)):\n",
    "        IPython.display.display(formatting[i])\n",
    "elif type.value == 'plot':\n",
    "    formatting.append(label)\n",
    "    formatting.append(color)\n",
    "    formatting.append(marker)\n",
    "    for i in range(len(formatting)):\n",
    "        IPython.display.display(formatting[i])\n",
    "elif type.value == 'points':\n",
    "    formatting.remove(colors)\n",
    "    formatting.append(color)\n",
    "    formatting.append(marker)    \n",
    "    for i in range(len(formatting)):\n",
    "        IPython.display.display(formatting[i])"
   ]
  }
 ],
 "metadata": {
  "kernelspec": {
   "display_name": "Python 2",
   "language": "python",
   "name": "python2"
  },
  "language_info": {
   "codemirror_mode": {
    "name": "ipython",
    "version": 2
   },
   "file_extension": ".py",
   "mimetype": "text/x-python",
   "name": "python",
   "nbconvert_exporter": "python",
   "pygments_lexer": "ipython2",
   "version": "2.7.11"
  },
  "urth": {
   "dashboard": {
    "layout": "report"
   }
  },
  "widgets": {
   "state": {
    "8074bd6a89a14444bf5f2966eebfee20": {
     "views": []
    },
    "896b838d96d24f5fbf1fb99e2d9d5c0b": {
     "views": []
    },
    "945eec722a2c47b183dde753cb49d909": {
     "views": []
    },
    "dd3756b52eaa4a16bd8b19e748ca50aa": {
     "views": []
    }
   },
   "version": "1.1.1"
  }
 },
 "nbformat": 4,
 "nbformat_minor": 0
}
