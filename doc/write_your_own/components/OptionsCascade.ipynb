{
 "cells": [
  {
   "cell_type": "code",
   "execution_count": null,
   "metadata": {
    "collapsed": false
   },
   "outputs": [],
   "source": [
    "import ipywidgets\n",
    "import IPython.display\n",
    "import iris\n",
    "\n",
    "import numpy as np\n",
    "import iris.quickplot as iplt\n",
    "import matplotlib.pyplot as plt"
   ]
  },
  {
   "cell_type": "code",
   "execution_count": null,
   "metadata": {
    "collapsed": true
   },
   "outputs": [],
   "source": [
    "%matplotlib inline"
   ]
  },
  {
   "cell_type": "code",
   "execution_count": null,
   "metadata": {
    "collapsed": false
   },
   "outputs": [],
   "source": [
    "cube = iris.load_cube(iris.sample_data_path('A1B.2098.pp'))\n",
    "print cube"
   ]
  },
  {
   "cell_type": "code",
   "execution_count": null,
   "metadata": {
    "collapsed": false
   },
   "outputs": [],
   "source": [
    "plot_type_dict = {'contour': iplt.contour, 'contourf': iplt.contourf, 'pcolor': iplt.pcolor, 'outline': iplt.outline,\n",
    "                  'pcolormesh': iplt.pcolormesh, 'plot': iplt.plot, 'points': iplt.points}\n",
    "\n",
    "plot_types = plot_type_dict.keys()\n",
    "plot_types.sort()\n",
    "\n",
    "type = ipywidgets.Dropdown(\n",
    "    options=plot_types,\n",
    "    value='contour',\n",
    "    description='Plot-type:')\n",
    "\n",
    "IPython.display.display(type)"
   ]
  },
  {
   "cell_type": "code",
   "execution_count": null,
   "metadata": {
    "collapsed": false
   },
   "outputs": [],
   "source": [
    "cmap_list = ['viridis', 'inferno', 'plasma', 'magma', 'jet', 'summer', 'autumn']\n",
    "\n",
    "cmap = ipywidgets.Dropdown(\n",
    "    options=cmap_list,\n",
    "    value='jet',\n",
    "    description='cmap:')\n",
    "\n",
    "extend = ipywidgets.Dropdown(\n",
    "    options=['neither', 'both', 'min', 'max'],\n",
    "    value='both',\n",
    "    description='extend:')\n",
    "\n",
    "levels = ipywidgets.Text(\n",
    "    description='Levels:',\n",
    "    value='np.linspace(np.min(cube.data), np.max(cube.data), 10)')\n",
    "\n",
    "IPython.display.display(cmap, extend, levels)\n"
   ]
  },
  {
   "cell_type": "code",
   "execution_count": null,
   "metadata": {
    "collapsed": false
   },
   "outputs": [],
   "source": [
    "callable = (plot_type_dict[type.value])\n",
    "callable(cube, cmap=cmap.value, extend=extend.value, levels=eval(levels.value))"
   ]
  },
  {
   "cell_type": "code",
   "execution_count": null,
   "metadata": {
    "collapsed": true
   },
   "outputs": [],
   "source": []
  }
 ],
 "metadata": {
  "kernelspec": {
   "display_name": "Python 2",
   "language": "python",
   "name": "python2"
  },
  "language_info": {
   "codemirror_mode": {
    "name": "ipython",
    "version": 2
   },
   "file_extension": ".py",
   "mimetype": "text/x-python",
   "name": "python",
   "nbconvert_exporter": "python",
   "pygments_lexer": "ipython2",
   "version": "2.7.11"
  },
  "widgets": {
   "state": {},
   "version": "1.1.1"
  }
 },
 "nbformat": 4,
 "nbformat_minor": 0
}
