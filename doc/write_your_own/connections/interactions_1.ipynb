{
 "cells": [
  {
   "cell_type": "markdown",
   "metadata": {},
   "source": [
    "# Linking up Cube Pickers and Plot Customization Options\n",
    "\n",
    "This is an example of a set of workflow options linked up with ipywidgets.  The options in this demo are for preparing one plot of an iris cube.\n",
    "\n",
    "There are some assumptions in this workflow:\n",
    "1. Data path is set to iris.sample_data_path\n",
    "2. Coordinates for plot axes will be longitude vs latitude\n",
    "3. Plot type will be line contour (plot customizations are applicable to this plot type)\n",
    "\n",
    "This notebook demostrates the links between some elements of a selection process."
   ]
  },
  {
   "cell_type": "code",
   "execution_count": null,
   "metadata": {},
   "outputs": [],
   "source": [
    "import IPython.display\n",
    "import ipywidgets\n",
    "import iris\n",
    "import cube_browser\n",
    "import glob\n",
    "import os"
   ]
  },
  {
   "cell_type": "code",
   "execution_count": null,
   "metadata": {},
   "outputs": [],
   "source": [
    "# This filepath is a directory containing the set of options for the first selection box.\n",
    "file_options = glob.glob(os.path.join(iris.config.SAMPLE_DATA_DIR, '*')) \n",
    "\n",
    "# Here is the widget which allows the user to select a file from that directory\n",
    "files = ipywidgets.Select(\n",
    "    description='Cube(list)',\n",
    "    options=file_options,\n",
    "    width='100%')\n",
    "\n",
    "# This is the initial list for the next selection box.\n",
    "# I must define this now in order for it to be changed later upon selection.\n",
    "cubes = iris.load_raw(files.value)\n",
    "options = [None] + [cube.standard_name for cube in cubes]\n",
    "\n",
    "# This defines your next selection box (to choose the cube from your file) \n",
    "plots = ipywidgets.Select(\n",
    "    description='Choose cube',\n",
    "    options=options,\n",
    "    width='100%')\n",
    "\n",
    "# You can see that above, the options in the second box depend on the selection of the first.\n",
    "# When you change the selection in your first box, you want the options in the second box to change accordingly.\n",
    "# You must therefore define a function here which changes the values of the options displayed in your second box.\n",
    "def handle_cubes(sender):\n",
    "    cubes = iris.load_raw(files.value)\n",
    "    options = [None] + [cube.standard_name for cube in cubes]\n",
    "    plots.value = None\n",
    "    plots.options = options\n",
    "    plots.value = options[0]\n",
    "\n",
    "# The following line executes the behaviour in the 'handle_cubes' function upon a value change in the 'files' widget\n",
    "files.observe(handle_cubes, names='value')  \n",
    "\n",
    "# Now I want to make a button which will confirm the selection.  This will load the cube and display it.\n",
    "load_button = ipywidgets.Button(description='Choose this cube')\n",
    "def pick_cube(sender):\n",
    "    cube = iris.load_cube(files.value, plots.value)\n",
    "    print cube\n",
    "    return cube\n",
    "load_button.on_click(pick_cube)\n",
    "\n",
    "# Next I need to offer some plot customizations.  \n",
    "# The following is a list of widgets which can be used to choose customization options.\n",
    "colors = ipywidgets.Dropdown(\n",
    "    options=['None', 'blue', 'green', 'red', 'cyan', 'magenta', 'yellow', 'black', 'white'],\n",
    "    value='blue',\n",
    "    description='colors')\n",
    "cmap = ipywidgets.Dropdown(\n",
    "    options=['None', 'viridis', 'inferno', 'plasma', 'magma', 'jet', 'summer', 'autumn'],\n",
    "    value='None',\n",
    "    description='cmap')\n",
    "norm = ipywidgets.Dropdown(\n",
    "    options=['None', 'Autoscale(A)', 'Autoscale_None(A)', 'scaled()'],\n",
    "    value='None',\n",
    "    description='norm')\n",
    "levels = ipywidgets.Text(\n",
    "    description='levels',\n",
    "    value='np.linspace(np.min(cube.data), np.max(cube.data), 10)')\n",
    "origin = ipywidgets.Dropdown(\n",
    "    options=['None', 'upper', 'lower', 'image'],\n",
    "    value='None',\n",
    "    description='origin')\n",
    "extend = ipywidgets.Dropdown(\n",
    "    options=['neither', 'both', 'min', 'max'],\n",
    "    value='both',\n",
    "    description='extend')\n",
    "linestyles = ipywidgets.Dropdown(\n",
    "    options=['None', 'solid', 'dashed', 'dashdot', 'dotted'],\n",
    "    value='None',\n",
    "    description='linestyle')\n",
    "\n",
    "formatting = [colors, cmap, norm, levels, origin, extend, linestyles]\n",
    "\n",
    "# This button will prompt the appearance of the customization options above.\n",
    "confirm_button = ipywidgets.Button(description='Customize')\n",
    "def custom_options(sender):\n",
    "    for i in range(len(formatting)):\n",
    "        IPython.display.display(formatting[i])    \n",
    "confirm_button.on_click(custom_options)\n",
    "\n",
    "# container is a box with all the selectors I want to display in it.\n",
    "container1 = ipywidgets.Box(children=[files, plots])\n",
    "container2 = ipywidgets.Box(children=[load_button, confirm_button])\n",
    "IPython.display.display(container1, container2)"
   ]
  }
 ],
 "metadata": {
  "kernelspec": {
   "display_name": "Python 2",
   "language": "python",
   "name": "python2"
  },
  "language_info": {
   "codemirror_mode": {
    "name": "ipython",
    "version": 2.0
   },
   "file_extension": ".py",
   "mimetype": "text/x-python",
   "name": "python",
   "nbconvert_exporter": "python",
   "pygments_lexer": "ipython2",
   "version": "2.7.11"
  },
  "widgets": {
   "state": {
    "004648db18c74cc18a44b38656876de3": {
     "views": []
    },
    "1b7a1ba337b14aa799e5d53847e363f3": {
     "views": []
    },
    "3041dfc933c0421ba374e2111065b411": {
     "views": []
    },
    "30e47e5249594dbea6dea192df95b223": {
     "views": []
    },
    "31e1db1bb5954a89926781118fc5be01": {
     "views": []
    },
    "373ed7f7f9b1491ba86fd6e441d83950": {
     "views": []
    },
    "3ac066f891b644a3821195164a41c7df": {
     "views": []
    },
    "52511d8f0cbf41bd82ecee69fa5ea52d": {
     "views": []
    },
    "62a7edb5fa1343289ce287792dcda605": {
     "views": []
    },
    "660fb170403f4fed92c67ae9ffffc1b4": {
     "views": []
    },
    "7bf0c0767e86402aa0d7ba76fa8288ec": {
     "views": []
    },
    "7cbff1f04f1247fa858448c2d6c467ec": {
     "views": []
    },
    "7d81d2f4ecb442cd822510a62fedf1ee": {
     "views": []
    },
    "917d09d61d3d47c48af980718d2e9a2c": {
     "views": []
    },
    "960996150b0e4224a2c73cc7b5093ef8": {
     "views": []
    },
    "9c93a6f79d614183948078cf6a2c6ee1": {
     "views": []
    },
    "9cf8183d264145ff990fb81671ca9117": {
     "views": []
    },
    "af5d713d41fa45449747d97247ad4dbe": {
     "views": []
    },
    "b225ba82f33f452c97024f6f12939520": {
     "views": []
    },
    "b360006881554218bb344866d1b1b1d5": {
     "views": []
    },
    "b97988d54cdf43edb6b43630d65f675d": {
     "views": []
    },
    "c9a17a63739b4a52999fa8c1046a8951": {
     "views": []
    },
    "cce7a1e23feb412dacb2eaacf1b3d4d6": {
     "views": []
    },
    "cd381e7797f74faabaab4b338db6fba4": {
     "views": []
    },
    "d11feb3b21684bd2b84b42e626be17c0": {
     "views": []
    },
    "e7581e41697442b7bc238c8de47a42bd": {
     "views": []
    },
    "edd8316b3aa04a528ee7b98ccda78563": {
     "views": [
      {
       "cell_index": 4.0
      }
     ]
    },
    "f31022f4bc034e628bbc6d4385fbe655": {
     "views": []
    }
   },
   "version": "1.1.1"
  }
 },
 "nbformat": 4,
 "nbformat_minor": 0
}