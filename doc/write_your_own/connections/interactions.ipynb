{
 "cells": [
  {
   "cell_type": "markdown",
   "metadata": {},
   "source": [
    "# Linking up Cube Pickers and Plot Customization Options\n",
    "\n",
    "This is an example of a set of workflow options linked up with ipywidgets.  The options in this demo are for preparing one plot of an iris cube.\n",
    "\n",
    "There are some assumptions in this workflow:\n",
    "1. Data path is set to iris.sample_data_path\n",
    "2. Coordinates for plot axes will be longitude vs latitude\n",
    "3. Plot type will be line contour (plot customizations are applicable to this plot type)\n",
    "\n",
    "This notebook demostrates the links between some elements of a selection process."
   ]
  },
  {
   "cell_type": "code",
   "execution_count": null,
   "metadata": {
    "collapsed": false
   },
   "outputs": [],
   "source": [
    "from collections import OrderedDict\n",
    "\n",
    "import IPython.display\n",
    "import ipywidgets\n",
    "import iris\n",
    "import cube_browser\n",
    "import glob\n",
    "import os"
   ]
  },
  {
   "cell_type": "code",
   "execution_count": null,
   "metadata": {
    "collapsed": false
   },
   "outputs": [],
   "source": [
    "# This filepath is a directory containing the set of options for the first selection box.\n",
    "file_options = glob.glob(os.path.join(iris.config.SAMPLE_DATA_DIR, '*')) \n",
    "\n",
    "# Here is the widget which allows the user to select a file from that directory\n",
    "files = ipywidgets.Select(\n",
    "    description='Cube(list)',\n",
    "    options=OrderedDict([(os.path.basename(f), f)\n",
    "                                 for f in file_options]),\n",
    "    width='100%')\n",
    "\n",
    "# This is the initial list for the next selection box.\n",
    "# I must define this now in order for it to be changed later upon selection.\n",
    "cubes = iris.load_raw(files.value)\n",
    "options = [None] + [cube.standard_name for cube in cubes]\n",
    "\n",
    "# This defines your next selection box (to choose the cube from your file) \n",
    "plots = ipywidgets.Select(\n",
    "    description='Choose cube',\n",
    "    options=options,\n",
    "    width='100%')\n",
    "\n",
    "# You can see that above, the options in the second box depend on the selection of the first.\n",
    "# When you change the selection in your first box, you want the options in the second box to change accordingly.\n",
    "# You must therefore define a function here which changes the values of the options displayed in your second box.\n",
    "def handle_cubes(sender):\n",
    "    cubes = iris.load_raw(files.value)\n",
    "    options = [None] + [cube.standard_name for cube in cubes]\n",
    "    plots.value = None\n",
    "    plots.options = options\n",
    "    plots.value = options[0]\n",
    "\n",
    "# The following line executes the behaviour in the 'handle_cubes' function upon a value change in the 'files' widget\n",
    "files.observe(handle_cubes, names='value')  \n",
    "\n",
    "# Now I want to make a button which will confirm the selection.  This will load the cube and display it.\n",
    "load_button = ipywidgets.Button(description='Choose this cube')\n",
    "def pick_cube(sender):\n",
    "    cube = iris.load_cube(files.value, plots.value)\n",
    "    print cube\n",
    "    return cube\n",
    "load_button.on_click(pick_cube)\n",
    "\n",
    "# Next I need to offer some plot customizations.  \n",
    "# The following is a list of widgets which can be used to choose customization options.\n",
    "colors = ipywidgets.Dropdown(\n",
    "    options=['None', 'blue', 'green', 'red', 'cyan', 'magenta', 'yellow', 'black', 'white'],\n",
    "    value='blue',\n",
    "    description='colors')\n",
    "cmap = ipywidgets.Dropdown(\n",
    "    options=['None', 'viridis', 'inferno', 'plasma', 'magma', 'jet', 'summer', 'autumn'],\n",
    "    value='None',\n",
    "    description='cmap')\n",
    "norm = ipywidgets.Dropdown(\n",
    "    options=['None', 'Autoscale(A)', 'Autoscale_None(A)', 'scaled()'],\n",
    "    value='None',\n",
    "    description='norm')\n",
    "levels = ipywidgets.Text(\n",
    "    description='levels',\n",
    "    value='np.linspace(np.min(cube.data), np.max(cube.data), 10)')\n",
    "origin = ipywidgets.Dropdown(\n",
    "    options=['None', 'upper', 'lower', 'image'],\n",
    "    value='None',\n",
    "    description='origin')\n",
    "extend = ipywidgets.Dropdown(\n",
    "    options=['neither', 'both', 'min', 'max'],\n",
    "    value='both',\n",
    "    description='extend')\n",
    "linestyles = ipywidgets.Dropdown(\n",
    "    options=['None', 'solid', 'dashed', 'dashdot', 'dotted'],\n",
    "    value='None',\n",
    "    description='linestyle')\n",
    "\n",
    "formatting = [colors, cmap, norm, levels, origin, extend, linestyles]\n",
    "\n",
    "# This button will prompt the appearance of the customization options above.\n",
    "confirm_button = ipywidgets.Button(description='Customize')\n",
    "def custom_options(sender):\n",
    "    for i in range(len(formatting)):\n",
    "        IPython.display.display(formatting[i])    \n",
    "confirm_button.on_click(custom_options)\n",
    "\n",
    "# container is a box with all the selectors I want to display in it.\n",
    "container1 = ipywidgets.Box(children=[files, plots])\n",
    "container2 = ipywidgets.Box(children=[load_button, confirm_button])\n",
    "IPython.display.display(container1, container2)"
   ]
  }
 ],
 "metadata": {
  "kernelspec": {
   "display_name": "Python 2",
   "language": "python",
   "name": "python2"
  },
  "language_info": {
   "codemirror_mode": {
    "name": "ipython",
    "version": 2
   },
   "file_extension": ".py",
   "mimetype": "text/x-python",
   "name": "python",
   "nbconvert_exporter": "python",
   "pygments_lexer": "ipython2",
   "version": "2.7.11"
  },
  "widgets": {
   "state": {
    "16a9caddb6324294b7ba92974f2c783c": {
     "views": []
    },
    "16cce28616a341cd9671ca8a89f4762c": {
     "views": []
    },
    "16dadf599f414af0b474964051d3e19c": {
     "views": []
    },
    "18a89aabfe4644d2abb83e4109e9a045": {
     "views": []
    },
    "1f8db9fd61a24952bce29e8950b2c91a": {
     "views": [
      {
       "cell_index": 2
      }
     ]
    },
    "220a2d266963445d8f04f23129a84615": {
     "views": []
    },
    "27c316c70a0a4b33a0c3b9a6c7000507": {
     "views": []
    },
    "27d5b2d8aab146e1bc5cb9e6e2a62ac2": {
     "views": [
      {
       "cell_index": 2
      }
     ]
    },
    "2f7f85fb17d440cb9031cdbeacde66b4": {
     "views": []
    },
    "31e5b4b5f01a4efe99ff283cf11b3064": {
     "views": [
      {
       "cell_index": 2
      }
     ]
    },
    "34792823c9df419882012f97b9ba12f1": {
     "views": []
    },
    "34d1f517b3d64d7cb5a8d8852d990685": {
     "views": []
    },
    "3f2a3940bad04a769f1f4a958c9a902e": {
     "views": []
    },
    "42f84023a0ad41c59a655570eaccb897": {
     "views": []
    },
    "478ff9b5217f4573bb46e5c5373f85c2": {
     "views": []
    },
    "49551dc264f44f71ad938bfe083c6238": {
     "views": []
    },
    "4bf153dbfe4e403c9d07c68dd4337fc4": {
     "views": []
    },
    "4c46d0eb58b04ec2bd51f3ee2512145c": {
     "views": []
    },
    "4fc7221272774654aab9aa4cd2db20bf": {
     "views": []
    },
    "5bc7f10780224fc6be0cf4679fc91ff6": {
     "views": []
    },
    "5ee8e968a93c45e4b1b532ee20eff581": {
     "views": []
    },
    "660a70c652264813892de3765a888249": {
     "views": []
    },
    "790e609263ee4d94aa9d33509e770a8e": {
     "views": []
    },
    "7bab65b9cc874dbda90fd5e4357a304e": {
     "views": []
    },
    "7e96b7dce5fb42958e43e5f5f7aabe5e": {
     "views": []
    },
    "7f5b085bf24b4e0bab3bf7d7a086a9e2": {
     "views": []
    },
    "8957fa02473842999710cb3a4042ef28": {
     "views": []
    },
    "8ad662fd716c4c6285e36bc49f23fd9b": {
     "views": [
      {
       "cell_index": 2
      }
     ]
    },
    "8cf32d80efdf4bdab5baa93191eda035": {
     "views": []
    },
    "8ed7a2580ce94435921c6b644e29b9aa": {
     "views": []
    },
    "8f819f7ba2ae4c85bc60085217cb4c73": {
     "views": []
    },
    "9831578d712e4a658ab12de00c6b5905": {
     "views": []
    },
    "99c1a1df890b4dbcb6728cafd9a60c93": {
     "views": []
    },
    "a185fc82995f4fb6a5baae4a08a7e0e4": {
     "views": []
    },
    "afac2ba7c850458887339c07c7d4b1f2": {
     "views": []
    },
    "b7b4dd1ad6ad4839b3f18309ca77371d": {
     "views": []
    },
    "bb5a7b29c5ef4ff1bf5eb826a9eacb86": {
     "views": []
    },
    "c0b0be051e084ff48c5208c602011052": {
     "views": []
    },
    "c27e407602a34bee9e47262e6a7b0e94": {
     "views": []
    },
    "cb8014ebe6c3416b988626da6f5fd9a5": {
     "views": []
    },
    "cf23430d553940df944a081006766f43": {
     "views": []
    },
    "cff72432bb8748b1a65f81fc7948f960": {
     "views": []
    },
    "d0bd620d3afa4939b3d1d9ec2f85a64d": {
     "views": []
    },
    "d0de731d69c04e939e430cbea58e4bf8": {
     "views": []
    },
    "d9f2368591a44032a23f5ac57f275684": {
     "views": []
    },
    "dcc1eabad16543b687f7cc52f50e2d43": {
     "views": []
    },
    "ddd2ff9e6952476abead04503c564e1c": {
     "views": [
      {
       "cell_index": 2
      }
     ]
    },
    "e1af41d485b04f00bb607b2aa7820e54": {
     "views": []
    },
    "efa0109b77a74b97be22706711231d41": {
     "views": []
    },
    "f503b75e81d54d3ea843d224922e00e9": {
     "views": []
    },
    "fde1e4d6c941486fae1f0aeae3f7c48b": {
     "views": []
    },
    "fe94452d456b46398e8fdd6f52af4f4f": {
     "views": []
    }
   },
   "version": "1.1.1"
  }
 },
 "nbformat": 4,
 "nbformat_minor": 0
}
