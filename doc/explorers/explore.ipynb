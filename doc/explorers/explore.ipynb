{
 "cells": [
  {
   "cell_type": "markdown",
   "metadata": {
    "urth": {
     "dashboard": {
      "layout": {
       "col": 0,
       "height": 4,
       "row": 0,
       "width": 4
      }
     }
    }
   },
   "source": [
    "# Cube Explorer"
   ]
  },
  {
   "cell_type": "code",
   "execution_count": 6,
   "metadata": {
    "collapsed": false,
    "urth": {
     "dashboard": {
      "layout": {
       "col": 4,
       "height": 4,
       "row": 0,
       "width": 4
      }
     }
    }
   },
   "outputs": [
    {
     "data": {
      "text/html": [
       "<button id=\"do_run_all\">Click Here to Explore your Data</button>\n",
       "<script>\n",
       "$(\"#do_run_all\").click(\n",
       "    function () {\n",
       "        $(\"#run_all_cells\").click();\n",
       "    });\n",
       "</script>"
      ],
      "text/plain": [
       "<IPython.core.display.HTML object>"
      ]
     },
     "metadata": {},
     "output_type": "display_data"
    }
   ],
   "source": [
    "%%HTML\n",
    "<button id=\"do_run_all\">Click Here to Explore your Data</button>\n",
    "<script>\n",
    "$(\"#do_run_all\").click(\n",
    "    function () {\n",
    "        $(\"#run_all_cells\").click();\n",
    "    });\n",
    "</script>"
   ]
  },
  {
   "cell_type": "code",
   "execution_count": null,
   "metadata": {
    "collapsed": false,
    "urth": {
     "dashboard": {
      "hidden": true
     }
    }
   },
   "outputs": [],
   "source": [
    "%%javascript\n",
    "$(\"#notebook-container\").css(\"width\", \"100%\")"
   ]
  },
  {
   "cell_type": "code",
   "execution_count": null,
   "metadata": {
    "collapsed": false,
    "urth": {
     "dashboard": {
      "layout": {
       "col": 0,
       "height": 4,
       "row": 4,
       "width": 12
      }
     }
    }
   },
   "outputs": [],
   "source": [
    "import cube_browser.explorer\n",
    "exp = cube_browser.explorer.Explorer()"
   ]
  },
  {
   "cell_type": "code",
   "execution_count": null,
   "metadata": {
    "collapsed": false,
    "urth": {
     "dashboard": {
      "layout": {
       "col": 0,
       "height": 4,
       "row": 8,
       "width": 12
      }
     }
    }
   },
   "outputs": [],
   "source": [
    "print(exp.cubes)\n",
    "print(exp.mpl_kwargs)"
   ]
  }
 ],
 "metadata": {
  "kernelspec": {
   "display_name": "Python 2",
   "language": "python",
   "name": "python2"
  },
  "language_info": {
   "codemirror_mode": {
    "name": "ipython",
    "version": 2
   },
   "file_extension": ".py",
   "mimetype": "text/x-python",
   "name": "python",
   "nbconvert_exporter": "python",
   "pygments_lexer": "ipython2",
   "version": "2.7.12"
  },
  "urth": {
   "dashboard": {
    "cellMargin": 10,
    "defaultCellHeight": 20,
    "layout": "grid",
    "maxColumns": 12
   }
  },
  "widgets": {
   "state": {
    "00fb456eb98e45ebac2ba277fa6b553a": {
     "views": []
    },
    "0197ede0334a45a8a17571fab0835b37": {
     "views": []
    },
    "028cfd52287a45fa823e8b404f6f1b75": {
     "views": []
    },
    "04c8e9f7d6f64d01a046c6345b5b0466": {
     "views": []
    },
    "05f79a09b3564cba9d554c3cb54b0afa": {
     "views": []
    },
    "06268c92ad52432a82655726cbb9f56e": {
     "views": []
    },
    "06980a0e4bcb4477872e9ee346ad3757": {
     "views": []
    },
    "06cf0cb56d1c4366a44eca10f4a5bf20": {
     "views": []
    },
    "07160f371f5c45ba999e4ed3ff51bf40": {
     "views": []
    },
    "075ebeb1353e4e4b8c93c98e04474878": {
     "views": []
    },
    "07b1e86a05fb4b19b6f9c146e9a149bf": {
     "views": []
    },
    "0965b3cf81174a92b2a43b1f23097ba3": {
     "views": []
    },
    "0CBB77B23472488484F7046FD4F4DF49": {
     "views": []
    },
    "0b156d407894457ab9ecb20dbc49f4fa": {
     "views": []
    },
    "0d9aee176e14477abbda8e4d302c6b6a": {
     "views": []
    },
    "1008e0ac05ee40aba902a52a1accb22d": {
     "views": [
      {
       "cell_index": 3
      }
     ]
    },
    "104B499BE1B04BB384C0B7E865E918A8": {
     "views": []
    },
    "109306c4e11747fa9ade2dc2a2ceafce": {
     "views": []
    },
    "113994003bb44f17affd5ab5d014014c": {
     "views": []
    },
    "132d02dbda5d4e3eb3c5512db2ae5fbd": {
     "views": []
    },
    "140ac042c1594f4190dc8ee26e90099b": {
     "views": []
    },
    "14108a3ae8c545a6a7d9e2350e3d48d3": {
     "views": []
    },
    "1675a7d3cc794e64a7bece0262108eac": {
     "views": []
    },
    "171e0496a4ba4c07bd980fb49f6882dd": {
     "views": []
    },
    "18c1355462c64f809a8a24cb9ab2b96c": {
     "views": []
    },
    "19663ef05109420b866634eacd2929c5": {
     "views": []
    },
    "19866cb480ae484988ce7687c6c9f0ce": {
     "views": []
    },
    "19aaca01be714b08b59122f3dc998535": {
     "views": []
    },
    "1C5F19CD45AF4D0B83A2FDFF1CDE89B1": {
     "views": []
    },
    "1afd5c3ad4f54427b110fe79b29b7408": {
     "views": []
    },
    "1be9683f32c84111957cb6c86a951291": {
     "views": []
    },
    "1cb28355d5224e70be0af7be3159e23c": {
     "views": []
    },
    "1d2d51b9ef68486fbf0cf77753c9f5ef": {
     "views": []
    },
    "1d4bd5415ae64cf9b5854ff9cd1e9cdc": {
     "views": []
    },
    "1e659e55246f454db58b493c445ec42a": {
     "views": []
    },
    "1f68a6856c6646e48b7488b5a9e8f9db": {
     "views": []
    },
    "20e667f8716745a0a68d12c6999abc5a": {
     "views": []
    },
    "2105d6750b0444b994491f25de07152a": {
     "views": []
    },
    "215934ff30cd4451b3e06f3e0f3832e9": {
     "views": []
    },
    "21ee8deb3cfb4641bb5ca6c2109a1289": {
     "views": []
    },
    "22238ef0816a4f06829c5c01bcaa9e09": {
     "views": []
    },
    "23e1958414454c3e8cdfb41b28676867": {
     "views": []
    },
    "247fdb843ae34922ba3fa5a5f6d5e94c": {
     "views": []
    },
    "24c637c3858f4049b688d43a29cead0f": {
     "views": []
    },
    "2539c6b82d2e49aebade407a3f969fb2": {
     "views": []
    },
    "25c7adff6ec444e5a20230d81256e66a": {
     "views": []
    },
    "28068742f2fc4c3fbe269ecf9f8635bb": {
     "views": []
    },
    "2c05f68de4d945ffb79a054b4cfb9252": {
     "views": []
    },
    "2c80b624638545378142c29db8cb664d": {
     "views": []
    },
    "2cd4159940744497a74ef235971b1264": {
     "views": []
    },
    "2d572b7f01e14cd3bf37ae01797725b2": {
     "views": []
    },
    "30ea7c8ff22644429ad3052dfe85740d": {
     "views": []
    },
    "30eab099ed0a4a30b4414b9921618d43": {
     "views": []
    },
    "316cc2f976e74afa8b86c0da94646b60": {
     "views": [
      {
       "cell_index": 3
      }
     ]
    },
    "31833f87d3db40aba0c7551b15f57a64": {
     "views": []
    },
    "321a480edff5440fab866d0883eb9004": {
     "views": []
    },
    "32fa65c97f3247df84e48bbca64f5027": {
     "views": []
    },
    "331baf964d2e44aea827e680be195a6e": {
     "views": []
    },
    "33b880cd80b646eebf27a65f04b01b0d": {
     "views": []
    },
    "3660cd9e8b2c4971878bc4c70aeaa9bb": {
     "views": []
    },
    "36e8979c888c4f79a5821aab8cac50ac": {
     "views": []
    },
    "36f17db646d64649aeac484d20f57863": {
     "views": []
    },
    "36f817c089fb44a69daeee4c82e3abc4": {
     "views": []
    },
    "381bb10482684fba86e851198fe53166": {
     "views": []
    },
    "3862894da1cb47409fa07e6a42831b12": {
     "views": []
    },
    "3a445e9f5bb747abb15baa5817b111e7": {
     "views": []
    },
    "3b9096090ae54071a13c525a7c76ab52": {
     "views": []
    },
    "3b9924d91fd843fca30bcefa4c17034a": {
     "views": []
    },
    "3c1f4d26f6ea452bb67bc745983ad74c": {
     "views": []
    },
    "3cca0cebff2b47ea87892170d9fa0b48": {
     "views": []
    },
    "3ce157aa0414402da36f9bdb02fe6dcf": {
     "views": []
    },
    "3dbb1ea251554382ac909f82cd03dc84": {
     "views": []
    },
    "3e4237dfff0242b18495755f436f6235": {
     "views": []
    },
    "3e91c8499a7b420994dce4afbaa0f91c": {
     "views": []
    },
    "3e97ebfc5d614bf18ae85b955b215ae1": {
     "views": []
    },
    "3edaaa71ada34058a01157b7173a82ae": {
     "views": []
    },
    "3ee6dfc45b624913a98f55a317a179a4": {
     "views": []
    },
    "3f1eaa893f774111a7c5edd24b0af64e": {
     "views": []
    },
    "3f4a52b1c49443f4be619a02bccccc53": {
     "views": []
    },
    "3f526e1e51cd43348981d80c957bb8df": {
     "views": []
    },
    "404b4da15fce4bdd8a5c0a19d9717636": {
     "views": []
    },
    "411feb65744d4e63a50ab29a686618d5": {
     "views": []
    },
    "420cbb86e7bc4028b156bfe59f763c4b": {
     "views": []
    },
    "425a42cb42934ff68be838a41fcc8a3f": {
     "views": []
    },
    "436AE6CC64FE4F0EBA9E8ADA2324569C": {
     "views": []
    },
    "43a9cd2f86434590a0f25bf517b912af": {
     "views": []
    },
    "444e06225e434c8c92682d4e77368748": {
     "views": []
    },
    "447e92ba09a84dc5a344dd8c63b213fa": {
     "views": []
    },
    "459d0c0c89ea4943b1e72147f0b422bc": {
     "views": []
    },
    "45d7a7b488e84f91a8e300978ff7f0b4": {
     "views": []
    },
    "469a5cb8b1754417a42c672d87d73752": {
     "views": []
    },
    "470c4e2e1dbf4791b5d9504a8ffdb63e": {
     "views": []
    },
    "4930b6efe2db4e67a21479a9c4c32ed3": {
     "views": [
      {
       "cell_index": 3
      }
     ]
    },
    "4bb66d8aabbb45d296402f78ee76d8fb": {
     "views": []
    },
    "4bcf81fef583476ca7473f56e736a570": {
     "views": []
    },
    "4c2fa9e805c0426c82c42a446e23a580": {
     "views": []
    },
    "4c5a6584cc9641ab8268084362e0abee": {
     "views": []
    },
    "4d888fbfd8da4ed2922b64c02a15058e": {
     "views": []
    },
    "4e930233526449ffa3cadd7e22882641": {
     "views": []
    },
    "4f0cc8971d654281b73f9230f5c84afe": {
     "views": []
    },
    "4f75f6d5dcb2466f8290b052093311be": {
     "views": []
    },
    "516c070bce0447c4aefacb382f378257": {
     "views": []
    },
    "529c3ce44d0e4671a253df5809f7b824": {
     "views": []
    },
    "531bf64d351f4d28a0ca81933c1c5cdf": {
     "views": []
    },
    "575a6daa4396420da068516516722ddb": {
     "views": []
    },
    "581a5ead1b724626a035b0e6658e65d3": {
     "views": []
    },
    "58391dad4122454e99a74ecb6802d1a7": {
     "views": []
    },
    "589461bd635e4cdfbe927ef4846edbeb": {
     "views": []
    },
    "59a595be18414ec4aede0280fcce7fd7": {
     "views": [
      {
       "cell_index": 5
      }
     ]
    },
    "59e2ee2f45d3449db6151e4486d77ca1": {
     "views": []
    },
    "59e7f52724cd4aafadbda7ea2edabccf": {
     "views": []
    },
    "5ab42eeaf1ca4c3aa8a9efdd94e0663c": {
     "views": []
    },
    "5afc7bda4eff41af887da9806e7fce88": {
     "views": []
    },
    "5b637e1269894a76984808e9db0a8e36": {
     "views": []
    },
    "5ca4ebf91d994ffe82f097b6c8c6008f": {
     "views": []
    },
    "5d06841413a549f199b76112360f998b": {
     "views": []
    },
    "5f3c75253add482fbe54e9cad1b2cdb2": {
     "views": []
    },
    "5f9ad8bbb76448a891d2c9332583a559": {
     "views": []
    },
    "60017c254ebb4b27b2b56b4816409aea": {
     "views": []
    },
    "60c568f9a13b45aca8d3e3245432cc05": {
     "views": []
    },
    "61542708c58644fab6f0316bb37baa78": {
     "views": []
    },
    "61e44feab55544e19d58f8390ef83c81": {
     "views": []
    },
    "628c2b4b8afe4501a0ac412f310af24e": {
     "views": []
    },
    "6620197bac49413eb58c872057acb851": {
     "views": []
    },
    "662285e7eb3343cc9589dc52dd916962": {
     "views": []
    },
    "6665404220014cc4a1990615d9d84c0f": {
     "views": []
    },
    "688d116ba6184c1aadd7c86d9409cc87": {
     "views": []
    },
    "6c074471e30e495e9fd4ff1456451ae3": {
     "views": []
    },
    "6d1ae535c8c249919c6ed17c96574978": {
     "views": []
    },
    "6d552482376c4b32b7fa24aea55a4b2a": {
     "views": []
    },
    "6d689ffd30344ec6b38d6521978cb5b1": {
     "views": []
    },
    "6d9222f071074fceb90d1506fc51cc8c": {
     "views": []
    },
    "6e24a6257a1d40e3a0105f96c29239bb": {
     "views": []
    },
    "6f3445ffcda549308ca9c4faa3777502": {
     "views": []
    },
    "6fd9de1fa7204e06b01c6e5246de229b": {
     "views": []
    },
    "6fed09a9c91a47cbb71a8772c470fc1a": {
     "views": []
    },
    "70497537c2b546a99ea85c900625c991": {
     "views": []
    },
    "7110a9b426064496a32e93608dc62f59": {
     "views": []
    },
    "769f6a975f9247e9969a71c069333289": {
     "views": []
    },
    "77aaf172724e4568ae855f64e3f0625e": {
     "views": []
    },
    "79bf5e7b80164523a52b74f45782fb43": {
     "views": []
    },
    "7A9BF8F0A2C84C3A852A7AD4CEFBFABC": {
     "views": []
    },
    "7a2fe8e325ce4960b07e5e25bf629b88": {
     "views": []
    },
    "7c0fc39b1eea4af7a405de0866098e7a": {
     "views": []
    },
    "7d609aa6c0c64102a1f3d1ebedaf99e7": {
     "views": []
    },
    "7d66949200464801a310e569e8b85a40": {
     "views": []
    },
    "7d97d40008ab4b87ac58279edbb56bb3": {
     "views": []
    },
    "7f7e96b7243b492c8bd61cb892a09f2b": {
     "views": []
    },
    "8026a7f392df454b91e58118c41f2b0b": {
     "views": []
    },
    "805025672ff44db8895761037a654f11": {
     "views": []
    },
    "80a90e33c2954dbc84e9157c60b00e59": {
     "views": []
    },
    "81F039A58E2F4C00883E568D63854230": {
     "views": []
    },
    "82e328f6023346978bddfdda92490e1c": {
     "views": []
    },
    "82e477cabce3463ba65d5ab8ba19cbba": {
     "views": []
    },
    "839075ae5347432da092ebbbe586a34e": {
     "views": []
    },
    "84758af42a2a4f38994313e4dee78909": {
     "views": []
    },
    "84a4cb2724c94394ac55cad31e6ccf41": {
     "views": []
    },
    "84b990746e0a41ad8d032c799c413f06": {
     "views": [
      {
       "cell_index": 3
      }
     ]
    },
    "874ced14b5004ac4bdf28077dcd0a2a9": {
     "views": []
    },
    "8972e400e2044dcf92c23795dc943c09": {
     "views": []
    },
    "8CB037204127483B8CC1F98C451738A9": {
     "views": []
    },
    "8a0ab46aa19c489fa2783b56faa6d76c": {
     "views": []
    },
    "8ac58491f40e47cb875d894ac721e882": {
     "views": []
    },
    "8aca88218af24e519a39cf4e5207aa5c": {
     "views": []
    },
    "8b5043c3eb4f4b87b51d2667987a101f": {
     "views": []
    },
    "8d2cd944780e4ac597290a86f259d4d0": {
     "views": []
    },
    "8e5d352e1d1b42cfb8e081a26692ab0f": {
     "views": []
    },
    "8ee5851c799a4bd2a5cb66676adc9d24": {
     "views": []
    },
    "8f4710028bb7457a8e1b531465a8cbb7": {
     "views": []
    },
    "91ca7b2a1fbe45f4b6364cf844ebbc65": {
     "views": []
    },
    "925afa45e2dd467b8a104e11500db212": {
     "views": []
    },
    "92e570886d824e308ad874dfd42e3baf": {
     "views": []
    },
    "930877a6978b4dc58b244cd322df0401": {
     "views": []
    },
    "961e066d2ad44c769c62e9ed4354f178": {
     "views": []
    },
    "965e599d83ab49a4825bdfe51b088ff8": {
     "views": []
    },
    "9875e82a03204a03a192ae6856b1a55b": {
     "views": []
    },
    "98cdfea98ab349988c77b111c6050478": {
     "views": []
    },
    "9914cf08668d451cb93f33c2d66519c9": {
     "views": []
    },
    "99860b03b1f342f5abd3bf013095183e": {
     "views": []
    },
    "9CB9A303698E4BBB8F8FFAC4108960AD": {
     "views": []
    },
    "9a38ff8b29d14eaaa9ff134ec03db232": {
     "views": []
    },
    "9b7dcc689d7f47caa8ed3db825e00458": {
     "views": []
    },
    "9cad27632fee42c7832413d687195ac0": {
     "views": []
    },
    "9cb954c608a742d09f1bde9e40adbc42": {
     "views": []
    },
    "9cccd2b2a1a0473ebaf5073ce612e02f": {
     "views": []
    },
    "9cebfc899c754250884882845f575b89": {
     "views": []
    },
    "9d4672469cc847afa55f1bda98b99d68": {
     "views": []
    },
    "9da6a5363a094bbba0344cfc25c4e3e3": {
     "views": []
    },
    "9e6f881b02194c06a7f6a5133c9e2ce2": {
     "views": []
    },
    "9f116d90b81c457998308e4317b19982": {
     "views": []
    },
    "9f96cfa3996f43d29c7a2e1d8837f277": {
     "views": []
    },
    "9faf0c59ac5b4494ab8acc157d390b58": {
     "views": []
    },
    "AB432C39C8E0402081078506E47B2484": {
     "views": []
    },
    "ACF3B0B8B6C045E48FA3B3274C107FAA": {
     "views": []
    },
    "C9046F9CAB554E8A8FAE2C4CC64719B3": {
     "views": []
    },
    "CCD2CE1A653647E8B58E58F43B82CCC0": {
     "views": []
    },
    "D7A075BFDF9A4E908705730CEB1F0316": {
     "views": []
    },
    "EB21CFE4B71145F3B1E1A51125A7EBBE": {
     "views": []
    },
    "FF04DB9A1C204383924CB7C667F9E505": {
     "views": []
    },
    "a05bbd0cdc3848b0b2f13ee1068f96ab": {
     "views": []
    },
    "a322415f0df44045a49f1ce9a7da0122": {
     "views": []
    },
    "a34664679fe3481eb5aec803dd63b584": {
     "views": []
    },
    "a4238c7fa9684f5098b3b00c270ec0ab": {
     "views": []
    },
    "a523ab2eedfa4d5bb9dd958db5b34603": {
     "views": []
    },
    "a5f81fe52bfe4911aa51f0069aaf13d0": {
     "views": []
    },
    "a789ac8e583c4c9c93678b9a0e3c664b": {
     "views": []
    },
    "a7d3791f64d04a38be0e7228aaea82de": {
     "views": []
    },
    "abeee56b4db84bf2b75964c16ba144c8": {
     "views": []
    },
    "acf8ec73a474415ca645b12562967079": {
     "views": []
    },
    "add767b63a76488e9ebe452c95f7d7c8": {
     "views": []
    },
    "af9df08bec564d718863ee361d62ba0d": {
     "views": []
    },
    "b02c91c1aae54e27ac21aab2ab2a5455": {
     "views": []
    },
    "b05d693f26bc4e90a200b32cf30a7c19": {
     "views": []
    },
    "b06f12ad0c38460981a086633e16e6aa": {
     "views": []
    },
    "b09a61b9d7354643a9e377674af094d0": {
     "views": []
    },
    "b0f5da6f676643689814c9bbf64730fe": {
     "views": []
    },
    "b1d514ae8b8d4f44ab664805a581209c": {
     "views": []
    },
    "b27f94499a7e4238ad8b899af4d1ff18": {
     "views": []
    },
    "b2b8ea5c3fc344d596b7beef53ebaf58": {
     "views": []
    },
    "b2e17f9442084fba902a64d57fb20435": {
     "views": []
    },
    "b34f26a449f945a29325166517de017b": {
     "views": []
    },
    "b4bb6e606ec8468e8096fc1f3a13f991": {
     "views": []
    },
    "b66d588138724f3f81e677441c191af7": {
     "views": []
    },
    "b6d97f5ddcfc4bf6b55ac0dd9c2bbf12": {
     "views": []
    },
    "b6edafb009704479a6ce3ddc9b16128b": {
     "views": []
    },
    "b7365388b72d429db3b56136cabee79a": {
     "views": []
    },
    "b8c622e487a642be9c699b9fa77df509": {
     "views": []
    },
    "b9889b217a4d45a0afdb7edb16314e7d": {
     "views": []
    },
    "b99fff80fdd0414aba11cfb9d9094579": {
     "views": []
    },
    "bd4824bf28484f9083371638a40a3e15": {
     "views": []
    },
    "bf9aef8317a645f4a6e1fc06aaa1b6c8": {
     "views": []
    },
    "bfe07e3a63e349d798da0e4996d1f0a3": {
     "views": []
    },
    "c06191e559244dd1be03dd45e6579607": {
     "views": []
    },
    "c06cc21582a54910b3815137a8c7daef": {
     "views": []
    },
    "c0b079b73fe246e8a07aee7f36b22991": {
     "views": []
    },
    "c37753f899aa4a01931aede1f6e7ede6": {
     "views": []
    },
    "c4205c8ea1604b9599ec21c5b94b4c87": {
     "views": []
    },
    "c466b997814048dc9cf559fc6f3d56a2": {
     "views": []
    },
    "c4ced3d4bae34b2d972d43e6c0b083c2": {
     "views": []
    },
    "c4d17500dbaf42469ab7a23d36c2d9a1": {
     "views": []
    },
    "c65b1b6d4aa34769a986e82c85da0f0d": {
     "views": []
    },
    "c7e85b97548e42bf86fcfa5e2df361b7": {
     "views": []
    },
    "c81b09c096e944e386b568e7c86fe99f": {
     "views": []
    },
    "c864465efa02418aba5bfbff7ee90bda": {
     "views": []
    },
    "c933d2ff809a40628130e23976be9a0d": {
     "views": []
    },
    "c9c4f0f123904a24aa4478e44decb01d": {
     "views": []
    },
    "cbd4a53598d044f883c3715f5ae8ab44": {
     "views": []
    },
    "cdd557e964ae4a90bec7f62ee872214e": {
     "views": []
    },
    "ce112d58975a4985bb1d937fbaf65099": {
     "views": []
    },
    "ce5a6daf7641478292aadab3df5fbbd0": {
     "views": []
    },
    "ceaa8de636ff4b2b8d9e0b8caa35bbdb": {
     "views": []
    },
    "cee3c5bafc1743b4b593422b0d3827d5": {
     "views": []
    },
    "d0bc40feb7924925b59d00a71962408d": {
     "views": []
    },
    "d1e6f983ff314790a7ee6219bcec25db": {
     "views": []
    },
    "d25bade5de864905b2ab3dc1be7ad272": {
     "views": []
    },
    "d3b0255874fe47fa8aeff583b85ec400": {
     "views": []
    },
    "d3edbd8561354201ac1a79617dfa95f0": {
     "views": []
    },
    "d4c4e79a22474775afbaad924a49eed1": {
     "views": []
    },
    "d54bf240c0894e539ee0913888c114c6": {
     "views": []
    },
    "d596f64dbd404d69b1289f6a234c7704": {
     "views": []
    },
    "d6ca8eba5f394f48972b5255fd2c7b14": {
     "views": []
    },
    "d70e7c5c6af745fc9c66f9f10962eea0": {
     "views": []
    },
    "d7fee31aa85a4e9fb313deb44269b2eb": {
     "views": []
    },
    "d817ca50ba544ca6ac850295eb9d8165": {
     "views": []
    },
    "d848c8afc9ac42ba999d10130dbcc505": {
     "views": []
    },
    "d8969bc96deb429383ce1e493891f4da": {
     "views": []
    },
    "d9237ddb33c641d0b4e4eded9bf5cdc7": {
     "views": []
    },
    "da063848dd5141c4ab1cb9b36dfd08bf": {
     "views": []
    },
    "da7b9d53100c4c759606997db9d66ec7": {
     "views": []
    },
    "da964bb666a14f4b8af417ecef58df5a": {
     "views": []
    },
    "dad9efd8a3da4f0b83b4181f03f2c8ee": {
     "views": []
    },
    "db22ca6cc4de4a158a7f0ae1236942e1": {
     "views": []
    },
    "db56bf5459ed444da924f29f1a09dfc9": {
     "views": []
    },
    "dbef3c2a16c64e4fb70aaf6c88c46712": {
     "views": []
    },
    "dc868f76f6654d7b90434d9ccb10696b": {
     "views": []
    },
    "dce4ef09cde247e88fa4a10c4c2ba1d2": {
     "views": []
    },
    "dd6bb2b8e58f4c4ebf633fc681319e4c": {
     "views": []
    },
    "de7655034db64f0cb2d4685577324848": {
     "views": []
    },
    "deba3855f4dd4836bdd229b20c7c52d5": {
     "views": []
    },
    "deec5ef373884208b375a385b456b126": {
     "views": []
    },
    "df08d3b2276a4b0c9e577336dde2c5a5": {
     "views": []
    },
    "e05f0227345f40348ec46fe6b7275259": {
     "views": []
    },
    "e0906094e6eb45c7a4dd5dc5ea576ff2": {
     "views": []
    },
    "e0a17f24fb2f4128a455f019c38ae67d": {
     "views": []
    },
    "e110766a7ddc44e78c061b6daea774f9": {
     "views": []
    },
    "e15c98b5ecdf401f8895a3f9893c1df0": {
     "views": []
    },
    "e15e09c3ac5542dda3ed01844222532e": {
     "views": []
    },
    "e21eb573fb034db3b39dfeaa81cd6151": {
     "views": []
    },
    "e2f21d4b4a434c1b96d2d4c42e940b32": {
     "views": []
    },
    "e44c5232cd87416c9a923a7b2632b7d8": {
     "views": []
    },
    "e475ea92c2d1447988f2cb565b9a0ac0": {
     "views": []
    },
    "e4d87a0905694e46b67ac21cb8d74fa1": {
     "views": []
    },
    "e6dab04de73348b7a66f3e9893a8ec7f": {
     "views": []
    },
    "e6edd084449649129617aa9523a148ae": {
     "views": []
    },
    "e792ce38410241b1951d056b06323b66": {
     "views": []
    },
    "e7e4b67a8b014aa69a60bb9393592fbd": {
     "views": []
    },
    "e918f2f9a0044fe3b1342e1d6bc9ada6": {
     "views": []
    },
    "e94f974a9c4049bbbbca05f993e455a9": {
     "views": []
    },
    "ea1e2c1f3cb3411984d3ba3ab72838c5": {
     "views": []
    },
    "eb652696a7df426fa2615d6c51cf6e6f": {
     "views": []
    },
    "eca749eab5cc4bd3914bfe75a3a91b1b": {
     "views": []
    },
    "ed41f55632344f86904614a5e05d0898": {
     "views": []
    },
    "edce3bc64dc14a5a89c54b6f016f9dd3": {
     "views": []
    },
    "ee63c70a123c4b0086703092aa225991": {
     "views": []
    },
    "efafcc0846764333aceef98111aeb746": {
     "views": []
    },
    "f06423417f5f42b7bc3bfe80ade3b2f3": {
     "views": []
    },
    "f096f7bb6f164ac287fcf6d01e2688a3": {
     "views": []
    },
    "f0cf3c45c1024d719522cc9176382662": {
     "views": []
    },
    "f0d03f91ad2c46c6a30183ed18befe6b": {
     "views": []
    },
    "f0edd53d1b814ec892801542aada9add": {
     "views": []
    },
    "f1c668a0c81e4efb9a7529ac6b9f7fc6": {
     "views": []
    },
    "f1e001a861944efa873cc470b9be20e3": {
     "views": []
    },
    "f2a223a148744e86b5b42c8bd5138da3": {
     "views": []
    },
    "f2ce84ca4dbc48a2a2955811cd8e15a0": {
     "views": []
    },
    "f592f825d45442f5a1f7025784313cd6": {
     "views": []
    },
    "f6c21cbd16ee4dd7a1c13a284ee297ea": {
     "views": []
    },
    "f8f212569503480e8854888b3a23ae74": {
     "views": []
    },
    "f945372c87dd473f8f2fa03e96f6a4cd": {
     "views": []
    },
    "f94f57993432471fbea15a7202e4bbfa": {
     "views": []
    },
    "f9c04a118e2d48be9bc38c804759be7c": {
     "views": []
    },
    "fa3bb48035d14ce19a01b96dafdc65d9": {
     "views": []
    },
    "fbdb5d08cfb7468eab1d24ab4432fc5d": {
     "views": []
    },
    "fc1ee2a1702444d9b73cd2a3fc20f4bf": {
     "views": []
    },
    "fc4802c6d8e045029aa6da1b0abf0a3f": {
     "views": []
    },
    "fcb71d76a3a3492e82c8c522c6f334c2": {
     "views": []
    },
    "fdd1677d4d21442396c606625bbaf368": {
     "views": []
    },
    "fdfc281ce6c24d14b4c97b0778d724dc": {
     "views": []
    },
    "fe32a6a66dbe4d2e8e1b93c6b5c88305": {
     "views": []
    },
    "feaaea91aecb481bbf5ce991c7554fd9": {
     "views": []
    }
   },
   "version": "1.1.2"
  }
 },
 "nbformat": 4,
 "nbformat_minor": 0
}
