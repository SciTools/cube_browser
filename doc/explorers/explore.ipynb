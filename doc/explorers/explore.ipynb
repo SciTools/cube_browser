{
 "cells": [
  {
   "cell_type": "markdown",
   "metadata": {
    "urth": {
     "dashboard": {
      "layout": {
       "col": 0,
       "height": 4,
       "row": 0,
       "width": 4
      }
     }
    }
   },
   "source": [
    "# Cube Explorer"
   ]
  },
  {
   "cell_type": "code",
   "execution_count": 1,
   "metadata": {
    "collapsed": false,
    "urth": {
     "dashboard": {
      "layout": {
       "col": 4,
       "height": 4,
       "row": 0,
       "width": 4
      }
     }
    }
   },
   "outputs": [
    {
     "data": {
      "text/html": [
       "<button id=\"do_run_all\">Click to Explore your Data</button>\n",
       "<script>\n",
       "$(\"#do_run_all\").click(\n",
       "    function () {\n",
       "        $(\"#run_all_cells\").click();\n",
       "    });\n",
       "</script>"
      ],
      "text/plain": [
       "<IPython.core.display.HTML object>"
      ]
     },
     "metadata": {},
     "output_type": "display_data"
    }
   ],
   "source": [
    "%%HTML\n",
    "<button id=\"do_run_all\">Click to Explore your Data</button>\n",
    "<script>\n",
    "$(\"#do_run_all\").click(\n",
    "    function () {\n",
    "        $(\"#run_all_cells\").click();\n",
    "    });\n",
    "</script>"
   ]
  },
  {
   "cell_type": "code",
   "execution_count": 1,
   "metadata": {
    "collapsed": false,
    "urth": {
     "dashboard": {
      "hidden": true
     }
    }
   },
   "outputs": [
    {
     "data": {
      "application/javascript": [
       "$(\"#notebook-container\").css(\"width\", \"100%\")"
      ],
      "text/plain": [
       "<IPython.core.display.Javascript object>"
      ]
     },
     "metadata": {},
     "output_type": "display_data"
    }
   ],
   "source": [
    "%%javascript\n",
    "$(\"#notebook-container\").css(\"width\", \"100%\")"
   ]
  },
  {
   "cell_type": "code",
   "execution_count": null,
   "metadata": {
    "collapsed": false,
    "urth": {
     "dashboard": {
      "hidden": true
     }
    }
   },
   "outputs": [],
   "source": [
    "import IPython\n",
    "javascript = \"\"\"\n",
    "<script type=\"text/Javascript\">\n",
    "    var url = window.location;\n",
    "\n",
    "        var command = \"url\" + \" = '\" + url + \"'\";\n",
    "\n",
    "        var kernel = IPython.notebook.kernel;\n",
    "        kernel.execute(command);\n",
    "</script>\n",
    "\"\"\"\n",
    "\n",
    "IPython.display.HTML(javascript)\n"
   ]
  },
  {
   "cell_type": "code",
   "execution_count": null,
   "metadata": {
    "collapsed": false,
    "urth": {
     "dashboard": {
      "hidden": true
     }
    }
   },
   "outputs": [],
   "source": [
    "import cube_browser.explorer\n",
    "exp = cube_browser.explorer.Explorer(url=url)"
   ]
  },
  {
   "cell_type": "code",
   "execution_count": null,
   "metadata": {
    "collapsed": true,
    "urth": {
     "dashboard": {
      "hidden": true
     }
    }
   },
   "outputs": [],
   "source": [
    "print(exp.cubes)\n",
    "print(exp.mpl_kwargs)"
   ]
  }
 ],
 "metadata": {
  "kernelspec": {
   "display_name": "Python 2",
   "language": "python",
   "name": "python2"
  },
  "language_info": {
   "codemirror_mode": {
    "name": "ipython",
    "version": 2
   },
   "file_extension": ".py",
   "mimetype": "text/x-python",
   "name": "python",
   "nbconvert_exporter": "python",
   "pygments_lexer": "ipython2",
   "version": "2.7.12"
  },
  "urth": {
   "dashboard": {
    "cellMargin": 10,
    "defaultCellHeight": 20,
    "layout": "grid",
    "maxColumns": 12
   }
  },
  "widgets": {
   "state": {
    "6039A32243D842B58AC3F95EDBC02827": {
     "views": []
    }
   },
   "version": "1.1.2"
  }
 },
 "nbformat": 4,
 "nbformat_minor": 0
}
