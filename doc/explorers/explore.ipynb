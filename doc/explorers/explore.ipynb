{
 "cells": [
  {
   "cell_type": "code",
   "execution_count": null,
   "metadata": {
    "collapsed": false
   },
   "outputs": [],
   "source": [
    "import cube_browser.explorer\n",
    "exp = cube_browser.explorer.Explorer()"
   ]
  },
  {
   "cell_type": "code",
   "execution_count": null,
   "metadata": {
    "collapsed": true
   },
   "outputs": [],
   "source": [
    "print(exp.cubes)"
   ]
  }
 ],
 "metadata": {
  "kernelspec": {
   "display_name": "Python 2",
   "language": "python",
   "name": "python2"
  },
  "language_info": {
   "codemirror_mode": {
    "name": "ipython",
    "version": 2
   },
   "file_extension": ".py",
   "mimetype": "text/x-python",
   "name": "python",
   "nbconvert_exporter": "python",
   "pygments_lexer": "ipython2",
   "version": "2.7.11"
  },
  "widgets": {
   "state": {
    "0049b4b5b19b42109bcfaa620e192ce3": {
     "views": []
    },
    "008f7ea12c9b4a75ac6193afe9ffdb08": {
     "views": []
    },
    "021a27b07d6b482a97047ce4b223b992": {
     "views": []
    },
    "03c2492954824a47a32b0582924b4ac9": {
     "views": []
    },
    "03cfb29cc7584e398793394cc22b2525": {
     "views": []
    },
    "0445d7a60f634f4fb3182331efbefbc4": {
     "views": []
    },
    "0468747a46bb4fa7bec46b8534677e3f": {
     "views": []
    },
    "07f9a708442340768816074fd6bb7023": {
     "views": []
    },
    "0d29d782c5eb409092a55b4499db8cd8": {
     "views": []
    },
    "0e56b1ae15464d358ea580de27f3aad8": {
     "views": []
    },
    "12cbdd58d29e42faa4fd05a7f2e50061": {
     "views": []
    },
    "138d011ef04246b0afe6a93c06e2e695": {
     "views": []
    },
    "146ec17d14d14bdd8f95bfdcb1b360cc": {
     "views": []
    },
    "1d89cf3f60774585be1f559f85008ae8": {
     "views": []
    },
    "2154312aa84949fc9fea2d7e5320fa75": {
     "views": []
    },
    "240042ff9c244e21ab0d6f706c5243d7": {
     "views": []
    },
    "25022c7596004a34938ef1ce5997b3ed": {
     "views": []
    },
    "292c8993daec4814aa717f8dd727b6a5": {
     "views": []
    },
    "294dbc124f7942c8b6456910e9947896": {
     "views": []
    },
    "29c77caf862844cea7156c8b9a2579d3": {
     "views": []
    },
    "2a169f58d72e4fac87ce393197eb7015": {
     "views": []
    },
    "2a7ddddc5a5147cdbf16c44cc46d7569": {
     "views": []
    },
    "2dd04f4b29d84e78b10ec04aa9da2aff": {
     "views": []
    },
    "2e57315acb5741a08ef3286ba6f8124a": {
     "views": []
    },
    "358dbe4532804461b6d0f4eb721ab173": {
     "views": []
    },
    "35b518d679f24858b65ae7d58347259c": {
     "views": []
    },
    "36495aa2ca134efcab511945c9a832a1": {
     "views": []
    },
    "373f16ccb3cf4a528b6e1d517e1145be": {
     "views": []
    },
    "378b835f9ead4ebd89678b82cdbbb96c": {
     "views": []
    },
    "3d66e8a1785c482596e729bd5711b3f3": {
     "views": []
    },
    "4268d841d50246458fc8483683ef92fb": {
     "views": []
    },
    "45a7262eb47f4477a5596fc758748a67": {
     "views": []
    },
    "490cc5c5dc7b442e9d31197d9b4270dd": {
     "views": []
    },
    "495a7f2c0b9446c887b193bdd9c91c85": {
     "views": []
    },
    "4990788306524ba6b3b68efcf16cd086": {
     "views": []
    },
    "4bf9eef1c6f6456fb8d3cb08332df4d0": {
     "views": []
    },
    "4dfda2fe70bb4a2cb85d8d023e0bcf23": {
     "views": []
    },
    "50734c273d384cb6bd1a434a1a4bb362": {
     "views": []
    },
    "53febfb5abc64b96920fda9ef2a93375": {
     "views": []
    },
    "543116dd405b4a43892bff6901fb773c": {
     "views": []
    },
    "54d37db845214d4a93b817421bbc429c": {
     "views": []
    },
    "55d8db567e8f4afd8ab58efc3dd3658c": {
     "views": []
    },
    "58d2385837ad46c9ac262e759ab5891a": {
     "views": []
    },
    "599fbd2b53a34808b9e74160735e3ab1": {
     "views": [
      {
       "cell_index": 0
      }
     ]
    },
    "59a487ccf21243ba980b34fb77e35e20": {
     "views": []
    },
    "5ca30e1632a54f939b69e5192584e328": {
     "views": []
    },
    "5e17775e17654a8d8d22210c6ceb2ba8": {
     "views": []
    },
    "5e4bbefa9dc64de68ed1e38982b2684e": {
     "views": []
    },
    "5ed7e9b4c1bd48128e60e3d2b5de29ad": {
     "views": []
    },
    "5f10b1efd094483abaa2ddea1492cdce": {
     "views": []
    },
    "5f54e439edfe4e039a68bbffb8e409eb": {
     "views": []
    },
    "62952bdb2ee8473c81a0cfcb9b9f18fa": {
     "views": []
    },
    "62bc4e558f6f4675bfc8ba5f77fd907d": {
     "views": []
    },
    "65cb4a1db40c4cf0aa83d077618a0551": {
     "views": []
    },
    "6cc3a1aed9ce4b36982e3f35befc5b66": {
     "views": []
    },
    "6ceb0360626443e99bc861e2d2768fec": {
     "views": []
    },
    "6cf64fbe7ed2454882f0ec0b1c4dac09": {
     "views": []
    },
    "6f4de0a17e1a4244815124cb85340850": {
     "views": []
    },
    "792708656cef4d01ac2754cc42335766": {
     "views": []
    },
    "7bd6a9fd488d42c884bf27f0987eeb29": {
     "views": []
    },
    "7d1f3b954a0146cc9937a0ba18d40916": {
     "views": []
    },
    "7d6f7c111a514b398890dc4e87bd054f": {
     "views": []
    },
    "7ee934ca3775482b9bd3e9121ad375c8": {
     "views": []
    },
    "83095be2ee1c4c47814e2060a7678c83": {
     "views": []
    },
    "867ecaa107f64cd4a35a7e08d1df2991": {
     "views": []
    },
    "8810bee2fc214bd889e0c692148a3a3b": {
     "views": []
    },
    "88f4366726db486597074fb5ac75da37": {
     "views": []
    },
    "8a87a0e82e3347dc8fb5098bd3636ff3": {
     "views": []
    },
    "8afd8188575f45b693c3ee9139db49b1": {
     "views": []
    },
    "8b6af1ed7dcb43679cee1f84706be9d7": {
     "views": []
    },
    "8bcd6fda822940d6851bf5154f631880": {
     "views": []
    },
    "8c07bbdf7820423bae34dcf2d9e9b213": {
     "views": []
    },
    "8d1398a3c1a94bd2b7d15ef3a0e65a84": {
     "views": []
    },
    "8fb4b4a0a1944ed58abc509808ec18f2": {
     "views": []
    },
    "923920c359cd495a8ea15e62097b8c49": {
     "views": []
    },
    "94aea10b94f6411fa928938cb9f0ddda": {
     "views": []
    },
    "94fcd0b2b65a44efae62db627d2e4fe4": {
     "views": []
    },
    "985940260be44547bcaa7b0d03db9b80": {
     "views": []
    },
    "9c99e7bbafda4f498a34bfd60f4e5f46": {
     "views": []
    },
    "9e64d2d4a49648f188f24035f6cfe687": {
     "views": []
    },
    "a066b8943c444b7da4d5e37a86f3ae13": {
     "views": []
    },
    "a139f4bde5da4a43a70859c41ac82214": {
     "views": []
    },
    "a1a71ebbbf674204a854386df4345328": {
     "views": []
    },
    "a1fe2cec37dc4e0b973ec9254ec37187": {
     "views": []
    },
    "a3cb5151ccd249de8f3caa643f29235d": {
     "views": []
    },
    "a3f8e47441564675ad13197f55a98a43": {
     "views": []
    },
    "a78b5432f33a4920bcd613222754fe6f": {
     "views": []
    },
    "a8c21367934c4f4b92b0bbf1cfe0cd6a": {
     "views": []
    },
    "aa1b9666ec9d418999b09c9c4b9c62d0": {
     "views": []
    },
    "acdc31b37837437cacd5953a22e1fe08": {
     "views": []
    },
    "af341d4dcf604e338a28acba58efe257": {
     "views": []
    },
    "b029d4d5daa7490f9cd78844f7ff2e6c": {
     "views": []
    },
    "b1b895da6e4e488493a54e9dc39258f3": {
     "views": []
    },
    "b28da6e884ef4afa96c4769b4efd4c6f": {
     "views": []
    },
    "b39e326c4905483595809ec759625011": {
     "views": []
    },
    "b4607c82c7004b4fa953e5ee0b6c6cc2": {
     "views": []
    },
    "b5446a6b894c49c1bee4bc727b40c586": {
     "views": []
    },
    "b605b00e8ea14a56acdc21a509423891": {
     "views": []
    },
    "bbbd8ef8f73144059645d996404f35b8": {
     "views": []
    },
    "bc8bdd1ad23c4b519591eede91c1a884": {
     "views": []
    },
    "c216d9a208c34455a27cd200048acb93": {
     "views": []
    },
    "c52864cf39414fadb121a8c9696fc6da": {
     "views": []
    },
    "ce25a0029fd3413a82b203ffc4e72359": {
     "views": []
    },
    "d5ead664403a4192b77e17ef73f754c2": {
     "views": []
    },
    "d8e37daab46e44649e63a1a7151f6329": {
     "views": []
    },
    "d99e0fdbc84f4c7da1ed2663506576f6": {
     "views": []
    },
    "dadb543629074be2854a06f60dabaf5e": {
     "views": []
    },
    "e571742255b544c0b4eaadc3c5c1b34d": {
     "views": []
    },
    "e5f37e43818c4a7abc45d43a6003a60a": {
     "views": []
    },
    "ec722a5d2715492fbf722769956d6bf5": {
     "views": []
    },
    "ed2eb451df314f639acd3879725e70d9": {
     "views": []
    },
    "ee0b153f0f4c444ebf8cabe534e9d10b": {
     "views": []
    },
    "f2f2f9645ae94eae81a05112ca769623": {
     "views": []
    },
    "f392deaafa9e4228b553366989ed4856": {
     "views": []
    },
    "f3d69d76bb96476a9ea2c6ea2baadbeb": {
     "views": []
    },
    "f64ad8153a8a45b8b62a9855f3fd0d92": {
     "views": []
    },
    "f8e10ef236984bd38b7ea657b6d9b3a5": {
     "views": []
    },
    "fc121a39c0a94f4896c20251b0957338": {
     "views": []
    }
   },
   "version": "1.1.1"
  }
 },
 "nbformat": 4,
 "nbformat_minor": 0
}
