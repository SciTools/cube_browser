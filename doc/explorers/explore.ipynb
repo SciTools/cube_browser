{
 "cells": [
  {
   "cell_type": "markdown",
   "metadata": {},
   "source": [
    "# Cube Explorer\n",
    "\n",
    "This is a notebook you can use to select mutliple cubes with which to make up to two plots.\n",
    "\n",
    "Run the top cell to see your widgets, and then make your selections in the Files, SubPlots and Plots menus.\n",
    "\n",
    "Select mutliple cubes by holding the Control button on your keyboard while making your selections.  Press 'add tab' to choose cubes from extra filepaths, and then load cubes from all tabs by pressing 'load these files'.\n",
    "\n"
   ]
  },
  {
   "cell_type": "code",
   "execution_count": null,
   "metadata": {},
   "outputs": [],
   "source": [
    "import cube_browser.explorer\n",
    "exp = cube_browser.explorer.Explorer()"
   ]
  },
  {
   "cell_type": "code",
   "execution_count": null,
   "metadata": {},
   "outputs": [],
   "source": [
    "print(exp.cubes)\n",
    "print(exp.mpl_kwargs)"
   ]
  }
 ],
 "metadata": {
  "kernelspec": {
   "display_name": "Python 2",
   "language": "python",
   "name": "python2"
  },
  "language_info": {
   "codemirror_mode": {
    "name": "ipython",
    "version": 2.0
   },
   "file_extension": ".py",
   "mimetype": "text/x-python",
   "name": "python",
   "nbconvert_exporter": "python",
   "pygments_lexer": "ipython2",
   "version": "2.7.11"
  },
  "widgets": {
   "state": {},
   "version": "1.1.2"
  }
 },
 "nbformat": 4,
 "nbformat_minor": 0
}
