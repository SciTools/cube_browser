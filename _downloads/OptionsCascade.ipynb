{
 "cells": [
  {
   "cell_type": "markdown",
   "metadata": {},
   "source": [
    "# Options List\n",
    "\n",
    "This example shows how to construct a set of widgets that can be used to select a series of plot customization options.  "
   ]
  },
  {
   "cell_type": "code",
   "execution_count": null,
   "metadata": {
    "collapsed": false
   },
   "outputs": [],
   "source": [
    "import ipywidgets\n",
    "import IPython.display\n",
    "import iris\n",
    "\n",
    "import numpy as np\n",
    "import iris.quickplot as iplt"
   ]
  },
  {
   "cell_type": "markdown",
   "metadata": {},
   "source": [
    "Load cube."
   ]
  },
  {
   "cell_type": "code",
   "execution_count": null,
   "metadata": {
    "collapsed": false
   },
   "outputs": [],
   "source": [
    "cube = iris.load_cube(iris.sample_data_path('A1B.2098.pp'))\n",
    "print cube"
   ]
  },
  {
   "cell_type": "markdown",
   "metadata": {},
   "source": [
    "Compose lists of options and then construct widgets to present them. In some cases, you can compose the options list inside the parentheses.  \n",
    "\n",
    "Display the widget using the IPython display call."
   ]
  },
  {
   "cell_type": "code",
   "execution_count": null,
   "metadata": {
    "collapsed": false
   },
   "outputs": [],
   "source": [
    "cmap_list = ['viridis', 'inferno', 'plasma', 'magma', 'jet', 'summer', 'autumn']\n",
    "\n",
    "cmap = ipywidgets.Dropdown(\n",
    "    options=cmap_list,\n",
    "    value='jet',\n",
    "    description='cmap:')\n",
    "\n",
    "extend = ipywidgets.Dropdown(\n",
    "    options=['neither', 'both', 'min', 'max'],\n",
    "    value='both',\n",
    "    description='extend:')\n",
    "\n",
    "levels = ipywidgets.Text(\n",
    "    description='Levels:',\n",
    "    value='np.linspace(np.min(cube.data), np.max(cube.data), 10)')\n",
    "\n",
    "IPython.display.display(cmap, extend, levels)"
   ]
  },
  {
   "cell_type": "markdown",
   "metadata": {},
   "source": [
    "Print selected widget values for clarity."
   ]
  },
  {
   "cell_type": "code",
   "execution_count": null,
   "metadata": {
    "collapsed": false
   },
   "outputs": [],
   "source": [
    "print cmap.value\n",
    "print extend.value\n",
    "print eval(levels.value)"
   ]
  }
 ],
 "metadata": {
  "kernelspec": {
   "display_name": "Python 2",
   "language": "python",
   "name": "python2"
  },
  "language_info": {
   "codemirror_mode": {
    "name": "ipython",
    "version": 2
   },
   "file_extension": ".py",
   "mimetype": "text/x-python",
   "name": "python",
   "nbconvert_exporter": "python",
   "pygments_lexer": "ipython2",
   "version": "2.7.11"
  },
  "widgets": {
   "state": {
    "2fc69c6bb50a4fa3a176425ab10333e3": {
     "views": [
      {
       "cell_index": 4
      }
     ]
    },
    "3b1abb4839b64db881fb68e6289df739": {
     "views": []
    },
    "62b669fc77524d8fad45e79fac7ddb9a": {
     "views": []
    },
    "74eb59e120f24f05a092d96c15c0a190": {
     "views": []
    },
    "b5bd1a99b1ca499eb91301be8e1ccf14": {
     "views": []
    },
    "b7cc92c7b528453d8045aaf1d106a3b7": {
     "views": []
    },
    "ca8e99e91a654094a2be73bac7beffaf": {
     "views": []
    },
    "faa01945137b4fe5963ea289acdea5b5": {
     "views": []
    }
   },
   "version": "1.1.1"
  }
 },
 "nbformat": 4,
 "nbformat_minor": 0
}
